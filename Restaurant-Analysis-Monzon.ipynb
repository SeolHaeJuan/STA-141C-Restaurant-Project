{
 "cells": [
  {
   "cell_type": "code",
   "execution_count": 407,
   "id": "e9a90e42",
   "metadata": {},
   "outputs": [],
   "source": [
    "import pandas as pd\n",
    "import numpy as np\n",
    "import seaborn as sns\n",
    "import matplotlib.pyplot as plt"
   ]
  },
  {
   "cell_type": "code",
   "execution_count": 3,
   "id": "7578b1c3",
   "metadata": {},
   "outputs": [],
   "source": [
    "precovid = pd.read_csv(\"/Users/cmonzon/Desktop/school/sta141c/yelp_reviews/precovid_reviews.csv\")"
   ]
  },
  {
   "cell_type": "code",
   "execution_count": 4,
   "id": "ed6032fc",
   "metadata": {},
   "outputs": [],
   "source": [
    "postcovid = pd.read_csv(\"/Users/cmonzon/Desktop/school/sta141c/yelp_reviews/postcovid_reviews.csv\")"
   ]
  },
  {
   "cell_type": "code",
   "execution_count": 5,
   "id": "35baba91",
   "metadata": {},
   "outputs": [],
   "source": [
    "# Combine pre and post covid\n",
    "combined = pd.concat([precovid, postcovid])"
   ]
  },
  {
   "cell_type": "code",
   "execution_count": 6,
   "id": "7c5f1134",
   "metadata": {},
   "outputs": [],
   "source": [
    "# Subset by still open\n",
    "reviews = combined[combined['is_open'] == 1] "
   ]
  },
  {
   "cell_type": "code",
   "execution_count": 7,
   "id": "4441e68d",
   "metadata": {
    "scrolled": true
   },
   "outputs": [
    {
     "data": {
      "text/plain": [
       "(4302877, 21)"
      ]
     },
     "execution_count": 7,
     "metadata": {},
     "output_type": "execute_result"
    }
   ],
   "source": [
    "reviews.shape"
   ]
  },
  {
   "cell_type": "code",
   "execution_count": 201,
   "id": "d50fc18d",
   "metadata": {},
   "outputs": [
    {
     "data": {
      "text/plain": [
       "['business_id',\n",
       " 'name',\n",
       " 'address',\n",
       " 'state_',\n",
       " 'city',\n",
       " 'postal_code',\n",
       " 'latitude',\n",
       " 'longitude',\n",
       " 'stars',\n",
       " 'review_count',\n",
       " 'is_open',\n",
       " 'categories',\n",
       " 'hours',\n",
       " 'review_id',\n",
       " 'user_id',\n",
       " 'customer_stars',\n",
       " 'useful',\n",
       " 'funny',\n",
       " 'cool',\n",
       " 'text_',\n",
       " 'date_']"
      ]
     },
     "execution_count": 201,
     "metadata": {},
     "output_type": "execute_result"
    }
   ],
   "source": [
    "list(reviews.columns)"
   ]
  },
  {
   "cell_type": "markdown",
   "id": "03b06bf5",
   "metadata": {},
   "source": [
    "----"
   ]
  },
  {
   "cell_type": "markdown",
   "id": "87610bd4",
   "metadata": {},
   "source": [
    "# Separate by region"
   ]
  },
  {
   "cell_type": "markdown",
   "id": "1fdd100c",
   "metadata": {},
   "source": [
    "All of the regions being used (based on Rohan's map):\n",
    "* Vancouver, BC (includes ABE)\n",
    "* Portland, OR (includes WA) \n",
    "* Boulder, CO\n",
    "* Austin, TX\n",
    "* Orlando, FL\n",
    "* Atlanta, GA\n",
    "* Columbus, OH\n",
    "* Boston, MA"
   ]
  },
  {
   "cell_type": "code",
   "execution_count": 8,
   "id": "5e221c6a",
   "metadata": {
    "scrolled": true
   },
   "outputs": [
    {
     "name": "stdout",
     "output_type": "stream",
     "text": [
      "GA 3920\n",
      "BC 4728\n",
      "TX 3155\n",
      "MA 6458\n",
      "OR 4225\n",
      "FL 5396\n",
      "WA 532\n",
      "OH 3104\n",
      "CO 497\n",
      "NH 1\n",
      "WY 1\n",
      "VA 1\n",
      "ABE 1\n",
      "MN 1\n",
      "KS 1\n",
      "KY 1\n"
     ]
    }
   ],
   "source": [
    "# Remove states with very few unique restaurants\n",
    "list_states = reviews.state_.unique()\n",
    "\n",
    "for state in list_states:\n",
    "    print(state, len(reviews[reviews['state_'] == state].business_id.unique()))"
   ]
  },
  {
   "cell_type": "markdown",
   "id": "be6ff4f6",
   "metadata": {},
   "source": [
    "Create each dataframe subset by region:"
   ]
  },
  {
   "cell_type": "code",
   "execution_count": 9,
   "id": "8bf574d7",
   "metadata": {},
   "outputs": [],
   "source": [
    "# Atlanta, GA area\n",
    "ga_reviews = reviews[reviews['state_'] == 'GA']"
   ]
  },
  {
   "cell_type": "code",
   "execution_count": 10,
   "id": "4f7392c1",
   "metadata": {},
   "outputs": [],
   "source": [
    "# Vancouver, BC area\n",
    "bc_reviews = reviews[(reviews['state_'] == 'BC') | (reviews['state_'] == 'ABE')]"
   ]
  },
  {
   "cell_type": "code",
   "execution_count": 11,
   "id": "b2cead99",
   "metadata": {},
   "outputs": [],
   "source": [
    "# Austin, TX area\n",
    "tx_reviews = reviews[reviews['state_'] == 'TX']"
   ]
  },
  {
   "cell_type": "code",
   "execution_count": 12,
   "id": "9e049335",
   "metadata": {},
   "outputs": [],
   "source": [
    "# Boston, MA area\n",
    "ma_reviews = reviews[reviews['state_'] == 'MA']"
   ]
  },
  {
   "cell_type": "code",
   "execution_count": 13,
   "id": "bf61e9d2",
   "metadata": {},
   "outputs": [],
   "source": [
    "# Portland, OR area\n",
    "or_reviews = reviews[(reviews['state_'] == 'OR') | (reviews['state_'] == 'WA')]"
   ]
  },
  {
   "cell_type": "code",
   "execution_count": 14,
   "id": "ac54dfc1",
   "metadata": {},
   "outputs": [],
   "source": [
    "# Orlando, FL area\n",
    "fl_reviews = reviews[reviews['state_'] == 'FL']"
   ]
  },
  {
   "cell_type": "code",
   "execution_count": 15,
   "id": "31339cda",
   "metadata": {},
   "outputs": [],
   "source": [
    "# Columbus, OH area\n",
    "oh_reviews = reviews[reviews['state_'] == 'OH']"
   ]
  },
  {
   "cell_type": "code",
   "execution_count": 16,
   "id": "fcc4743e",
   "metadata": {},
   "outputs": [],
   "source": [
    "# Boulder, CO area\n",
    "co_reviews = reviews[reviews['state_'] == 'CO']"
   ]
  },
  {
   "cell_type": "code",
   "execution_count": 21,
   "id": "7e82a345",
   "metadata": {},
   "outputs": [],
   "source": [
    "region_reviews = [ga_reviews, bc_reviews, tx_reviews, ma_reviews, \n",
    "                  or_reviews, fl_reviews, oh_reviews, co_reviews]"
   ]
  },
  {
   "cell_type": "code",
   "execution_count": 18,
   "id": "72dd2d62",
   "metadata": {},
   "outputs": [],
   "source": [
    "#region_reviews = {'GA': ga_reviews, 'BC': bc_reviews, 'TX': tx_reviews, 'MA': ma_reviews,\n",
    "                  #'OR': or_reviews, 'FL': fl_reviews, 'OH': oh_reviews, 'CO': co_reviews}"
   ]
  },
  {
   "cell_type": "code",
   "execution_count": 39,
   "id": "8df88f3a",
   "metadata": {},
   "outputs": [],
   "source": [
    "# reset index for all dfs\n",
    "for i in range(len(region_reviews)):\n",
    "    region_reviews[i] = region_reviews[i].reset_index(drop=True)"
   ]
  },
  {
   "cell_type": "markdown",
   "id": "7e299472",
   "metadata": {},
   "source": [
    "# Get top 1000 from each region"
   ]
  },
  {
   "cell_type": "code",
   "execution_count": 22,
   "id": "72d9f21a",
   "metadata": {},
   "outputs": [],
   "source": [
    "# Get top 100 restaurants with most reviews in each region\n",
    "list_top100 = []\n",
    "\n",
    "for region in region_reviews:\n",
    "    group = region.groupby(['name','business_id'])\n",
    "    region100 = group.mean().sort_values(by='review_count', ascending=False).head(100)\n",
    "    region100 = region100[['latitude', 'longitude', 'stars', 'review_count']]\n",
    "    list_top100.append(region100)\n",
    "    \n",
    "df_top100 = pd.concat(list_top100)"
   ]
  },
  {
   "cell_type": "code",
   "execution_count": 23,
   "id": "f1fc6eb7",
   "metadata": {},
   "outputs": [
    {
     "data": {
      "text/html": [
       "<div>\n",
       "<style scoped>\n",
       "    .dataframe tbody tr th:only-of-type {\n",
       "        vertical-align: middle;\n",
       "    }\n",
       "\n",
       "    .dataframe tbody tr th {\n",
       "        vertical-align: top;\n",
       "    }\n",
       "\n",
       "    .dataframe thead th {\n",
       "        text-align: right;\n",
       "    }\n",
       "</style>\n",
       "<table border=\"1\" class=\"dataframe\">\n",
       "  <thead>\n",
       "    <tr style=\"text-align: right;\">\n",
       "      <th></th>\n",
       "      <th></th>\n",
       "      <th>latitude</th>\n",
       "      <th>longitude</th>\n",
       "      <th>stars</th>\n",
       "      <th>review_count</th>\n",
       "    </tr>\n",
       "    <tr>\n",
       "      <th>name</th>\n",
       "      <th>business_id</th>\n",
       "      <th></th>\n",
       "      <th></th>\n",
       "      <th></th>\n",
       "      <th></th>\n",
       "    </tr>\n",
       "  </thead>\n",
       "  <tbody>\n",
       "    <tr>\n",
       "      <th>Mary Mac's Tea Room</th>\n",
       "      <th>z9oCxeqOKp2QMfM24m7bUw</th>\n",
       "      <td>33.772832</td>\n",
       "      <td>-84.379998</td>\n",
       "      <td>4.0</td>\n",
       "      <td>3861.0</td>\n",
       "    </tr>\n",
       "    <tr>\n",
       "      <th>Fox Bros. Bar-B-Q</th>\n",
       "      <th>u-4wti774tFcYRLuQrnHEg</th>\n",
       "      <td>33.761051</td>\n",
       "      <td>-84.347502</td>\n",
       "      <td>4.5</td>\n",
       "      <td>3825.0</td>\n",
       "    </tr>\n",
       "    <tr>\n",
       "      <th>Atlanta Breakfast Club</th>\n",
       "      <th>GJxFtnTqTiokFedNrW9iDQ</th>\n",
       "      <td>33.764930</td>\n",
       "      <td>-84.395450</td>\n",
       "      <td>4.5</td>\n",
       "      <td>3761.0</td>\n",
       "    </tr>\n",
       "    <tr>\n",
       "      <th>Poor Calvin's</th>\n",
       "      <th>U-i6cq-yFRVJC4pIKSLX9Q</th>\n",
       "      <td>33.768461</td>\n",
       "      <td>-84.382193</td>\n",
       "      <td>4.5</td>\n",
       "      <td>3379.0</td>\n",
       "    </tr>\n",
       "    <tr>\n",
       "      <th>Antico Pizza</th>\n",
       "      <th>CxQ1m2iY4wQpXC64tSfWgQ</th>\n",
       "      <td>33.784642</td>\n",
       "      <td>-84.405652</td>\n",
       "      <td>4.0</td>\n",
       "      <td>3135.0</td>\n",
       "    </tr>\n",
       "    <tr>\n",
       "      <th>...</th>\n",
       "      <th>...</th>\n",
       "      <td>...</td>\n",
       "      <td>...</td>\n",
       "      <td>...</td>\n",
       "      <td>...</td>\n",
       "    </tr>\n",
       "    <tr>\n",
       "      <th>Ali Baba Grill</th>\n",
       "      <th>lLR82v3xp3_ai9mQhaujPg</th>\n",
       "      <td>40.030173</td>\n",
       "      <td>-105.257873</td>\n",
       "      <td>3.5</td>\n",
       "      <td>197.0</td>\n",
       "    </tr>\n",
       "    <tr>\n",
       "      <th>The Yellow Deli</th>\n",
       "      <th>vZsntl8pvbI-qIqBTOE5zg</th>\n",
       "      <td>40.016885</td>\n",
       "      <td>-105.283362</td>\n",
       "      <td>4.5</td>\n",
       "      <td>197.0</td>\n",
       "    </tr>\n",
       "    <tr>\n",
       "      <th>La Choza</th>\n",
       "      <th>zIRdmDRbb7WbLPNRwfSulQ</th>\n",
       "      <td>40.055586</td>\n",
       "      <td>-105.282726</td>\n",
       "      <td>4.0</td>\n",
       "      <td>194.0</td>\n",
       "    </tr>\n",
       "    <tr>\n",
       "      <th>Taj Mahal</th>\n",
       "      <th>bAuYOa-VuqTOnKzWN4cu8Q</th>\n",
       "      <td>39.988007</td>\n",
       "      <td>-105.129662</td>\n",
       "      <td>4.5</td>\n",
       "      <td>193.0</td>\n",
       "    </tr>\n",
       "    <tr>\n",
       "      <th>Bawarchi Biryanis</th>\n",
       "      <th>IjI4Huv5wlPRicMBfdyZAw</th>\n",
       "      <td>39.964603</td>\n",
       "      <td>-105.162410</td>\n",
       "      <td>4.0</td>\n",
       "      <td>193.0</td>\n",
       "    </tr>\n",
       "  </tbody>\n",
       "</table>\n",
       "<p>800 rows × 4 columns</p>\n",
       "</div>"
      ],
      "text/plain": [
       "                                                latitude   longitude  stars  \\\n",
       "name                   business_id                                            \n",
       "Mary Mac's Tea Room    z9oCxeqOKp2QMfM24m7bUw  33.772832  -84.379998    4.0   \n",
       "Fox Bros. Bar-B-Q      u-4wti774tFcYRLuQrnHEg  33.761051  -84.347502    4.5   \n",
       "Atlanta Breakfast Club GJxFtnTqTiokFedNrW9iDQ  33.764930  -84.395450    4.5   \n",
       "Poor Calvin's          U-i6cq-yFRVJC4pIKSLX9Q  33.768461  -84.382193    4.5   \n",
       "Antico Pizza           CxQ1m2iY4wQpXC64tSfWgQ  33.784642  -84.405652    4.0   \n",
       "...                                                  ...         ...    ...   \n",
       "Ali Baba Grill         lLR82v3xp3_ai9mQhaujPg  40.030173 -105.257873    3.5   \n",
       "The Yellow Deli        vZsntl8pvbI-qIqBTOE5zg  40.016885 -105.283362    4.5   \n",
       "La Choza               zIRdmDRbb7WbLPNRwfSulQ  40.055586 -105.282726    4.0   \n",
       "Taj Mahal              bAuYOa-VuqTOnKzWN4cu8Q  39.988007 -105.129662    4.5   \n",
       "Bawarchi Biryanis      IjI4Huv5wlPRicMBfdyZAw  39.964603 -105.162410    4.0   \n",
       "\n",
       "                                               review_count  \n",
       "name                   business_id                           \n",
       "Mary Mac's Tea Room    z9oCxeqOKp2QMfM24m7bUw        3861.0  \n",
       "Fox Bros. Bar-B-Q      u-4wti774tFcYRLuQrnHEg        3825.0  \n",
       "Atlanta Breakfast Club GJxFtnTqTiokFedNrW9iDQ        3761.0  \n",
       "Poor Calvin's          U-i6cq-yFRVJC4pIKSLX9Q        3379.0  \n",
       "Antico Pizza           CxQ1m2iY4wQpXC64tSfWgQ        3135.0  \n",
       "...                                                     ...  \n",
       "Ali Baba Grill         lLR82v3xp3_ai9mQhaujPg         197.0  \n",
       "The Yellow Deli        vZsntl8pvbI-qIqBTOE5zg         197.0  \n",
       "La Choza               zIRdmDRbb7WbLPNRwfSulQ         194.0  \n",
       "Taj Mahal              bAuYOa-VuqTOnKzWN4cu8Q         193.0  \n",
       "Bawarchi Biryanis      IjI4Huv5wlPRicMBfdyZAw         193.0  \n",
       "\n",
       "[800 rows x 4 columns]"
      ]
     },
     "execution_count": 23,
     "metadata": {},
     "output_type": "execute_result"
    }
   ],
   "source": [
    "df_top100\n"
   ]
  },
  {
   "cell_type": "markdown",
   "id": "8af0b50a",
   "metadata": {},
   "source": [
    "-----"
   ]
  },
  {
   "cell_type": "markdown",
   "id": "f45a9368",
   "metadata": {},
   "source": [
    "# Get list of cuisines"
   ]
  },
  {
   "cell_type": "code",
   "execution_count": null,
   "id": "156c5921",
   "metadata": {},
   "outputs": [],
   "source": [
    "from bs4 import BeautifulSoup\n",
    "import requests"
   ]
  },
  {
   "cell_type": "code",
   "execution_count": null,
   "id": "ad4d85e1",
   "metadata": {},
   "outputs": [],
   "source": [
    "categories_url = 'https://blog.yelp.com/businesses/yelp_category_list/'\n",
    "header = {'user-agent': 'Mozilla/5.0 (Macintosh; Intel Mac OS X 10_15_7) AppleWebKit/537.36 (KHTML, like Gecko) Chrome/110.0.0.0 Safari/537.36'}\n",
    "page = requests.get(categories_url, headers = header)\n"
   ]
  },
  {
   "cell_type": "code",
   "execution_count": null,
   "id": "7790a376",
   "metadata": {},
   "outputs": [],
   "source": [
    "html = BeautifulSoup(page.content, 'html.parser')\n",
    "uls = html.find_all('ul', class_ = None)     # get all <ul> tags\n",
    "categories_html = uls[90]     # get <ul> containing the restaurant categories"
   ]
  },
  {
   "cell_type": "code",
   "execution_count": null,
   "id": "fb3e8ea7",
   "metadata": {},
   "outputs": [],
   "source": [
    "# Get all categories into list format\n",
    "cuisines = [li.text.split('\\n', 1)[0] for li in categories_html.findAll('li')]"
   ]
  },
  {
   "cell_type": "code",
   "execution_count": null,
   "id": "457c6a4f",
   "metadata": {
    "scrolled": true
   },
   "outputs": [],
   "source": [
    "cuisines"
   ]
  },
  {
   "cell_type": "markdown",
   "id": "995aac3d",
   "metadata": {},
   "source": [
    "# Find what words are most commonly associated with good service"
   ]
  },
  {
   "cell_type": "code",
   "execution_count": 245,
   "id": "201c59aa",
   "metadata": {},
   "outputs": [],
   "source": [
    "# imports (packages, functions, etc.)\n",
    "\n",
    "### Vader\n",
    "from nltk.sentiment.vader import SentimentIntensityAnalyzer \n",
    "\n",
    "### Tokenize\n",
    "from nltk.tokenize import word_tokenize, sent_tokenize\n",
    "from collections import Counter\n",
    "\n",
    "### Punctuation list\n",
    "import string\n",
    "punctuations = list(string.punctuation)\n",
    "punctuations.append(\"''\")\n",
    "punctuations.append('..')\n",
    "punctuations.append(\"``\")\n",
    "punctuations.append('...')\n",
    "punctuations.append('--')\n",
    "\n",
    "### Stopwords (from https://gist.github.com/sebleier/554280?permalink_comment_id=3431590#gistcomment-3431590)\n",
    "gist_file = open(\"stopwords.txt\", \"r\")\n",
    "try:\n",
    "    content = gist_file.read()\n",
    "    stopwords = content.split(\",\")\n",
    "    stopwords=[i.replace('\"',\"\").strip() for i in stopwords]\n",
    "finally:\n",
    "    gist_file.close()\n",
    "    \n",
    "### Get common words function\n",
    "def common_words(df, column, punctuations, stop_words):\n",
    "    check = \" \".join(df[column].tolist())\n",
    "    check = check.replace('\\r', '').replace('\\n', '')\n",
    "    \n",
    "    filtered_sentence = []\n",
    "    words = word_tokenize(check)\n",
    "    \n",
    "    for w in words:\n",
    "        if w.lower() not in stop_words:\n",
    "            filtered_sentence.append(w)\n",
    "            \n",
    "    filtered_sentence = [i for i in filtered_sentence if (i not in punctuations) and (len(i)>2)]\n",
    "    filtered_sentence = [w for w in filtered_sentence if all(c not in w for c in \"''\")]\n",
    "    common = Counter(filtered_sentence).most_common(30)\n",
    "    return(common)"
   ]
  },
  {
   "cell_type": "code",
   "execution_count": 375,
   "id": "f25a96a0",
   "metadata": {},
   "outputs": [],
   "source": [
    "# Common words used when talking about service\n",
    "service_words = ['service', 'server', 'staff', 'waiter', 'waitress']"
   ]
  },
  {
   "cell_type": "code",
   "execution_count": 376,
   "id": "2aaabe9d",
   "metadata": {},
   "outputs": [],
   "source": [
    "# Find the sentences that talk about service\n",
    "service_sentences = []\n",
    "for i in range(len(reviews)):\n",
    "    for word in service_words:\n",
    "        if word in reviews['text_'][i]:\n",
    "            sent = ([sentence + '.' for sentence in reviews['text_'][i].split('.') if word in sentence])\n",
    "            service_sentences.append(sent)\n",
    "        break"
   ]
  },
  {
   "cell_type": "code",
   "execution_count": 61,
   "id": "9a6c1a1a",
   "metadata": {},
   "outputs": [],
   "source": [
    "vader = SentimentIntensityAnalyzer()"
   ]
  },
  {
   "cell_type": "code",
   "execution_count": 409,
   "id": "1ea8469b",
   "metadata": {},
   "outputs": [],
   "source": [
    "# Get rid of length 0 sentences\n",
    "service_sentences = [item for item in service_sentences if len(item) == 1]\n",
    "service_sentences = [sent for sublist in service_sentences for sent in sublist] # unnest everything from list"
   ]
  },
  {
   "cell_type": "code",
   "execution_count": 410,
   "id": "d189daa9",
   "metadata": {},
   "outputs": [],
   "source": [
    "# Get vader compound score of each of the sentences talking about service\n",
    "service_scores = [vader.polarity_scores(sentence)['compound'] for sentence in service_sentences]"
   ]
  },
  {
   "cell_type": "code",
   "execution_count": 411,
   "id": "51df41b0",
   "metadata": {},
   "outputs": [
    {
     "data": {
      "text/html": [
       "<div>\n",
       "<style scoped>\n",
       "    .dataframe tbody tr th:only-of-type {\n",
       "        vertical-align: middle;\n",
       "    }\n",
       "\n",
       "    .dataframe tbody tr th {\n",
       "        vertical-align: top;\n",
       "    }\n",
       "\n",
       "    .dataframe thead th {\n",
       "        text-align: right;\n",
       "    }\n",
       "</style>\n",
       "<table border=\"1\" class=\"dataframe\">\n",
       "  <thead>\n",
       "    <tr style=\"text-align: right;\">\n",
       "      <th></th>\n",
       "      <th>text</th>\n",
       "      <th>sentiment_score</th>\n",
       "    </tr>\n",
       "  </thead>\n",
       "  <tbody>\n",
       "    <tr>\n",
       "      <th>0</th>\n",
       "      <td>The service is great and the servers do a gr...</td>\n",
       "      <td>0.9441</td>\n",
       "    </tr>\n",
       "    <tr>\n",
       "      <th>1</th>\n",
       "      <td>\\n\\nTasty food, good waiter recommendations, ...</td>\n",
       "      <td>0.7964</td>\n",
       "    </tr>\n",
       "    <tr>\n",
       "      <th>2</th>\n",
       "      <td>Staff was courteous but service not prompt e...</td>\n",
       "      <td>0.2846</td>\n",
       "    </tr>\n",
       "    <tr>\n",
       "      <th>3</th>\n",
       "      <td>My only gripe and the reason for giving it f...</td>\n",
       "      <td>0.3400</td>\n",
       "    </tr>\n",
       "    <tr>\n",
       "      <th>4</th>\n",
       "      <td>The service is always fast and the staff is ...</td>\n",
       "      <td>0.5719</td>\n",
       "    </tr>\n",
       "    <tr>\n",
       "      <th>...</th>\n",
       "      <td>...</td>\n",
       "      <td>...</td>\n",
       "    </tr>\n",
       "    <tr>\n",
       "      <th>214239</th>\n",
       "      <td>The staff I encountered from the second I wal...</td>\n",
       "      <td>0.7177</td>\n",
       "    </tr>\n",
       "    <tr>\n",
       "      <th>214240</th>\n",
       "      <td>The service here is on point.</td>\n",
       "      <td>0.0000</td>\n",
       "    </tr>\n",
       "    <tr>\n",
       "      <th>214241</th>\n",
       "      <td>Always good quality service and food.</td>\n",
       "      <td>0.4404</td>\n",
       "    </tr>\n",
       "    <tr>\n",
       "      <th>214242</th>\n",
       "      <td>Unfortunately the service we recieved was unb...</td>\n",
       "      <td>-0.7178</td>\n",
       "    </tr>\n",
       "    <tr>\n",
       "      <th>214243</th>\n",
       "      <td>Great service all together and me and my girl...</td>\n",
       "      <td>0.6249</td>\n",
       "    </tr>\n",
       "  </tbody>\n",
       "</table>\n",
       "<p>214244 rows × 2 columns</p>\n",
       "</div>"
      ],
      "text/plain": [
       "                                                     text  sentiment_score\n",
       "0         The service is great and the servers do a gr...           0.9441\n",
       "1        \\n\\nTasty food, good waiter recommendations, ...           0.7964\n",
       "2         Staff was courteous but service not prompt e...           0.2846\n",
       "3         My only gripe and the reason for giving it f...           0.3400\n",
       "4         The service is always fast and the staff is ...           0.5719\n",
       "...                                                   ...              ...\n",
       "214239   The staff I encountered from the second I wal...           0.7177\n",
       "214240                      The service here is on point.           0.0000\n",
       "214241              Always good quality service and food.           0.4404\n",
       "214242   Unfortunately the service we recieved was unb...          -0.7178\n",
       "214243   Great service all together and me and my girl...           0.6249\n",
       "\n",
       "[214244 rows x 2 columns]"
      ]
     },
     "execution_count": 411,
     "metadata": {},
     "output_type": "execute_result"
    }
   ],
   "source": [
    "# Create dataframe with columns of sentences talking about service and the sentiment score\n",
    "scores_dict = {\"text\": service_sentences, \"sentiment_score\": service_scores}\n",
    "df_service = pd.DataFrame(scores_dict)\n",
    "df_service"
   ]
  },
  {
   "cell_type": "code",
   "execution_count": 412,
   "id": "f4e54a32",
   "metadata": {},
   "outputs": [],
   "source": [
    "# Conditions for if service is good, bad, or neutral\n",
    "conditions = [\n",
    "    (df_service['sentiment_score'] > 0),\n",
    "    (df_service['sentiment_score'] < 0),\n",
    "    (df_service['sentiment_score'] == 0)\n",
    "]\n",
    "\n",
    "values = [1, 0, -1] # 1 = positive, 0 = negative, -1 = neutral\n",
    "\n",
    "# Create column to check if service is good (positive)\n",
    "df_service['is_positive'] = np.select(conditions, values)\n"
   ]
  },
  {
   "cell_type": "code",
   "execution_count": 413,
   "id": "90892109",
   "metadata": {},
   "outputs": [],
   "source": [
    "# Find where is_positive == 1, meaning where service is good\n",
    "positive_service = df_service[df_service['is_positive'] == 1]"
   ]
  },
  {
   "cell_type": "code",
   "execution_count": 414,
   "id": "77c73505",
   "metadata": {
    "scrolled": true
   },
   "outputs": [
    {
     "ename": "KeyboardInterrupt",
     "evalue": "",
     "output_type": "error",
     "traceback": [
      "\u001b[0;31m---------------------------------------------------------------------------\u001b[0m",
      "\u001b[0;31mKeyboardInterrupt\u001b[0m                         Traceback (most recent call last)",
      "Input \u001b[0;32mIn [414]\u001b[0m, in \u001b[0;36m<cell line: 2>\u001b[0;34m()\u001b[0m\n\u001b[1;32m      1\u001b[0m \u001b[38;5;66;03m# Positive-associated words\u001b[39;00m\n\u001b[0;32m----> 2\u001b[0m \u001b[43mcommon_words\u001b[49m\u001b[43m(\u001b[49m\u001b[43mpositive_service\u001b[49m\u001b[43m,\u001b[49m\u001b[43m \u001b[49m\u001b[38;5;124;43m'\u001b[39;49m\u001b[38;5;124;43mtext\u001b[39;49m\u001b[38;5;124;43m'\u001b[39;49m\u001b[43m,\u001b[49m\u001b[43m \u001b[49m\u001b[43mpunctuations\u001b[49m\u001b[43m,\u001b[49m\u001b[43m \u001b[49m\u001b[43mstopwords\u001b[49m\u001b[43m)\u001b[49m\n",
      "Input \u001b[0;32mIn [245]\u001b[0m, in \u001b[0;36mcommon_words\u001b[0;34m(df, column, punctuations, stop_words)\u001b[0m\n\u001b[1;32m     31\u001b[0m check \u001b[38;5;241m=\u001b[39m check\u001b[38;5;241m.\u001b[39mreplace(\u001b[38;5;124m'\u001b[39m\u001b[38;5;130;01m\\r\u001b[39;00m\u001b[38;5;124m'\u001b[39m, \u001b[38;5;124m'\u001b[39m\u001b[38;5;124m'\u001b[39m)\u001b[38;5;241m.\u001b[39mreplace(\u001b[38;5;124m'\u001b[39m\u001b[38;5;130;01m\\n\u001b[39;00m\u001b[38;5;124m'\u001b[39m, \u001b[38;5;124m'\u001b[39m\u001b[38;5;124m'\u001b[39m)\n\u001b[1;32m     33\u001b[0m filtered_sentence \u001b[38;5;241m=\u001b[39m []\n\u001b[0;32m---> 34\u001b[0m words \u001b[38;5;241m=\u001b[39m \u001b[43mword_tokenize\u001b[49m\u001b[43m(\u001b[49m\u001b[43mcheck\u001b[49m\u001b[43m)\u001b[49m\n\u001b[1;32m     36\u001b[0m \u001b[38;5;28;01mfor\u001b[39;00m w \u001b[38;5;129;01min\u001b[39;00m words:\n\u001b[1;32m     37\u001b[0m     \u001b[38;5;28;01mif\u001b[39;00m w\u001b[38;5;241m.\u001b[39mlower() \u001b[38;5;129;01mnot\u001b[39;00m \u001b[38;5;129;01min\u001b[39;00m stop_words:\n",
      "File \u001b[0;32m~/opt/anaconda3/lib/python3.9/site-packages/nltk/tokenize/__init__.py:129\u001b[0m, in \u001b[0;36mword_tokenize\u001b[0;34m(text, language, preserve_line)\u001b[0m\n\u001b[1;32m    114\u001b[0m \u001b[38;5;28;01mdef\u001b[39;00m \u001b[38;5;21mword_tokenize\u001b[39m(text, language\u001b[38;5;241m=\u001b[39m\u001b[38;5;124m\"\u001b[39m\u001b[38;5;124menglish\u001b[39m\u001b[38;5;124m\"\u001b[39m, preserve_line\u001b[38;5;241m=\u001b[39m\u001b[38;5;28;01mFalse\u001b[39;00m):\n\u001b[1;32m    115\u001b[0m     \u001b[38;5;124;03m\"\"\"\u001b[39;00m\n\u001b[1;32m    116\u001b[0m \u001b[38;5;124;03m    Return a tokenized copy of *text*,\u001b[39;00m\n\u001b[1;32m    117\u001b[0m \u001b[38;5;124;03m    using NLTK's recommended word tokenizer\u001b[39;00m\n\u001b[0;32m   (...)\u001b[0m\n\u001b[1;32m    127\u001b[0m \u001b[38;5;124;03m    :type preserve_line: bool\u001b[39;00m\n\u001b[1;32m    128\u001b[0m \u001b[38;5;124;03m    \"\"\"\u001b[39;00m\n\u001b[0;32m--> 129\u001b[0m     sentences \u001b[38;5;241m=\u001b[39m [text] \u001b[38;5;28;01mif\u001b[39;00m preserve_line \u001b[38;5;28;01melse\u001b[39;00m \u001b[43msent_tokenize\u001b[49m\u001b[43m(\u001b[49m\u001b[43mtext\u001b[49m\u001b[43m,\u001b[49m\u001b[43m \u001b[49m\u001b[43mlanguage\u001b[49m\u001b[43m)\u001b[49m\n\u001b[1;32m    130\u001b[0m     \u001b[38;5;28;01mreturn\u001b[39;00m [\n\u001b[1;32m    131\u001b[0m         token \u001b[38;5;28;01mfor\u001b[39;00m sent \u001b[38;5;129;01min\u001b[39;00m sentences \u001b[38;5;28;01mfor\u001b[39;00m token \u001b[38;5;129;01min\u001b[39;00m _treebank_word_tokenizer\u001b[38;5;241m.\u001b[39mtokenize(sent)\n\u001b[1;32m    132\u001b[0m     ]\n",
      "File \u001b[0;32m~/opt/anaconda3/lib/python3.9/site-packages/nltk/tokenize/__init__.py:107\u001b[0m, in \u001b[0;36msent_tokenize\u001b[0;34m(text, language)\u001b[0m\n\u001b[1;32m     97\u001b[0m \u001b[38;5;124;03m\"\"\"\u001b[39;00m\n\u001b[1;32m     98\u001b[0m \u001b[38;5;124;03mReturn a sentence-tokenized copy of *text*,\u001b[39;00m\n\u001b[1;32m     99\u001b[0m \u001b[38;5;124;03musing NLTK's recommended sentence tokenizer\u001b[39;00m\n\u001b[0;32m   (...)\u001b[0m\n\u001b[1;32m    104\u001b[0m \u001b[38;5;124;03m:param language: the model name in the Punkt corpus\u001b[39;00m\n\u001b[1;32m    105\u001b[0m \u001b[38;5;124;03m\"\"\"\u001b[39;00m\n\u001b[1;32m    106\u001b[0m tokenizer \u001b[38;5;241m=\u001b[39m load(\u001b[38;5;124mf\u001b[39m\u001b[38;5;124m\"\u001b[39m\u001b[38;5;124mtokenizers/punkt/\u001b[39m\u001b[38;5;132;01m{\u001b[39;00mlanguage\u001b[38;5;132;01m}\u001b[39;00m\u001b[38;5;124m.pickle\u001b[39m\u001b[38;5;124m\"\u001b[39m)\n\u001b[0;32m--> 107\u001b[0m \u001b[38;5;28;01mreturn\u001b[39;00m \u001b[43mtokenizer\u001b[49m\u001b[38;5;241;43m.\u001b[39;49m\u001b[43mtokenize\u001b[49m\u001b[43m(\u001b[49m\u001b[43mtext\u001b[49m\u001b[43m)\u001b[49m\n",
      "File \u001b[0;32m~/opt/anaconda3/lib/python3.9/site-packages/nltk/tokenize/punkt.py:1276\u001b[0m, in \u001b[0;36mPunktSentenceTokenizer.tokenize\u001b[0;34m(self, text, realign_boundaries)\u001b[0m\n\u001b[1;32m   1272\u001b[0m \u001b[38;5;28;01mdef\u001b[39;00m \u001b[38;5;21mtokenize\u001b[39m(\u001b[38;5;28mself\u001b[39m, text, realign_boundaries\u001b[38;5;241m=\u001b[39m\u001b[38;5;28;01mTrue\u001b[39;00m):\n\u001b[1;32m   1273\u001b[0m     \u001b[38;5;124;03m\"\"\"\u001b[39;00m\n\u001b[1;32m   1274\u001b[0m \u001b[38;5;124;03m    Given a text, returns a list of the sentences in that text.\u001b[39;00m\n\u001b[1;32m   1275\u001b[0m \u001b[38;5;124;03m    \"\"\"\u001b[39;00m\n\u001b[0;32m-> 1276\u001b[0m     \u001b[38;5;28;01mreturn\u001b[39;00m \u001b[38;5;28mlist\u001b[39m(\u001b[38;5;28;43mself\u001b[39;49m\u001b[38;5;241;43m.\u001b[39;49m\u001b[43msentences_from_text\u001b[49m\u001b[43m(\u001b[49m\u001b[43mtext\u001b[49m\u001b[43m,\u001b[49m\u001b[43m \u001b[49m\u001b[43mrealign_boundaries\u001b[49m\u001b[43m)\u001b[49m)\n",
      "File \u001b[0;32m~/opt/anaconda3/lib/python3.9/site-packages/nltk/tokenize/punkt.py:1332\u001b[0m, in \u001b[0;36mPunktSentenceTokenizer.sentences_from_text\u001b[0;34m(self, text, realign_boundaries)\u001b[0m\n\u001b[1;32m   1325\u001b[0m \u001b[38;5;28;01mdef\u001b[39;00m \u001b[38;5;21msentences_from_text\u001b[39m(\u001b[38;5;28mself\u001b[39m, text, realign_boundaries\u001b[38;5;241m=\u001b[39m\u001b[38;5;28;01mTrue\u001b[39;00m):\n\u001b[1;32m   1326\u001b[0m     \u001b[38;5;124;03m\"\"\"\u001b[39;00m\n\u001b[1;32m   1327\u001b[0m \u001b[38;5;124;03m    Given a text, generates the sentences in that text by only\u001b[39;00m\n\u001b[1;32m   1328\u001b[0m \u001b[38;5;124;03m    testing candidate sentence breaks. If realign_boundaries is\u001b[39;00m\n\u001b[1;32m   1329\u001b[0m \u001b[38;5;124;03m    True, includes in the sentence closing punctuation that\u001b[39;00m\n\u001b[1;32m   1330\u001b[0m \u001b[38;5;124;03m    follows the period.\u001b[39;00m\n\u001b[1;32m   1331\u001b[0m \u001b[38;5;124;03m    \"\"\"\u001b[39;00m\n\u001b[0;32m-> 1332\u001b[0m     \u001b[38;5;28;01mreturn\u001b[39;00m [text[s:e] \u001b[38;5;28;01mfor\u001b[39;00m s, e \u001b[38;5;129;01min\u001b[39;00m \u001b[38;5;28mself\u001b[39m\u001b[38;5;241m.\u001b[39mspan_tokenize(text, realign_boundaries)]\n",
      "File \u001b[0;32m~/opt/anaconda3/lib/python3.9/site-packages/nltk/tokenize/punkt.py:1332\u001b[0m, in \u001b[0;36m<listcomp>\u001b[0;34m(.0)\u001b[0m\n\u001b[1;32m   1325\u001b[0m \u001b[38;5;28;01mdef\u001b[39;00m \u001b[38;5;21msentences_from_text\u001b[39m(\u001b[38;5;28mself\u001b[39m, text, realign_boundaries\u001b[38;5;241m=\u001b[39m\u001b[38;5;28;01mTrue\u001b[39;00m):\n\u001b[1;32m   1326\u001b[0m     \u001b[38;5;124;03m\"\"\"\u001b[39;00m\n\u001b[1;32m   1327\u001b[0m \u001b[38;5;124;03m    Given a text, generates the sentences in that text by only\u001b[39;00m\n\u001b[1;32m   1328\u001b[0m \u001b[38;5;124;03m    testing candidate sentence breaks. If realign_boundaries is\u001b[39;00m\n\u001b[1;32m   1329\u001b[0m \u001b[38;5;124;03m    True, includes in the sentence closing punctuation that\u001b[39;00m\n\u001b[1;32m   1330\u001b[0m \u001b[38;5;124;03m    follows the period.\u001b[39;00m\n\u001b[1;32m   1331\u001b[0m \u001b[38;5;124;03m    \"\"\"\u001b[39;00m\n\u001b[0;32m-> 1332\u001b[0m     \u001b[38;5;28;01mreturn\u001b[39;00m [text[s:e] \u001b[38;5;28;01mfor\u001b[39;00m s, e \u001b[38;5;129;01min\u001b[39;00m \u001b[38;5;28mself\u001b[39m\u001b[38;5;241m.\u001b[39mspan_tokenize(text, realign_boundaries)]\n",
      "File \u001b[0;32m~/opt/anaconda3/lib/python3.9/site-packages/nltk/tokenize/punkt.py:1322\u001b[0m, in \u001b[0;36mPunktSentenceTokenizer.span_tokenize\u001b[0;34m(self, text, realign_boundaries)\u001b[0m\n\u001b[1;32m   1320\u001b[0m \u001b[38;5;28;01mif\u001b[39;00m realign_boundaries:\n\u001b[1;32m   1321\u001b[0m     slices \u001b[38;5;241m=\u001b[39m \u001b[38;5;28mself\u001b[39m\u001b[38;5;241m.\u001b[39m_realign_boundaries(text, slices)\n\u001b[0;32m-> 1322\u001b[0m \u001b[38;5;28;01mfor\u001b[39;00m sentence \u001b[38;5;129;01min\u001b[39;00m slices:\n\u001b[1;32m   1323\u001b[0m     \u001b[38;5;28;01myield\u001b[39;00m (sentence\u001b[38;5;241m.\u001b[39mstart, sentence\u001b[38;5;241m.\u001b[39mstop)\n",
      "File \u001b[0;32m~/opt/anaconda3/lib/python3.9/site-packages/nltk/tokenize/punkt.py:1421\u001b[0m, in \u001b[0;36mPunktSentenceTokenizer._realign_boundaries\u001b[0;34m(self, text, slices)\u001b[0m\n\u001b[1;32m   1408\u001b[0m \u001b[38;5;124;03m\"\"\"\u001b[39;00m\n\u001b[1;32m   1409\u001b[0m \u001b[38;5;124;03mAttempts to realign punctuation that falls after the period but\u001b[39;00m\n\u001b[1;32m   1410\u001b[0m \u001b[38;5;124;03mshould otherwise be included in the same sentence.\u001b[39;00m\n\u001b[0;32m   (...)\u001b[0m\n\u001b[1;32m   1418\u001b[0m \u001b[38;5;124;03m    [\"(Sent1.)\", \"Sent2.\"].\u001b[39;00m\n\u001b[1;32m   1419\u001b[0m \u001b[38;5;124;03m\"\"\"\u001b[39;00m\n\u001b[1;32m   1420\u001b[0m realign \u001b[38;5;241m=\u001b[39m \u001b[38;5;241m0\u001b[39m\n\u001b[0;32m-> 1421\u001b[0m \u001b[38;5;28;01mfor\u001b[39;00m sentence1, sentence2 \u001b[38;5;129;01min\u001b[39;00m _pair_iter(slices):\n\u001b[1;32m   1422\u001b[0m     sentence1 \u001b[38;5;241m=\u001b[39m \u001b[38;5;28mslice\u001b[39m(sentence1\u001b[38;5;241m.\u001b[39mstart \u001b[38;5;241m+\u001b[39m realign, sentence1\u001b[38;5;241m.\u001b[39mstop)\n\u001b[1;32m   1423\u001b[0m     \u001b[38;5;28;01mif\u001b[39;00m \u001b[38;5;129;01mnot\u001b[39;00m sentence2:\n",
      "File \u001b[0;32m~/opt/anaconda3/lib/python3.9/site-packages/nltk/tokenize/punkt.py:318\u001b[0m, in \u001b[0;36m_pair_iter\u001b[0;34m(iterator)\u001b[0m\n\u001b[1;32m    316\u001b[0m iterator \u001b[38;5;241m=\u001b[39m \u001b[38;5;28miter\u001b[39m(iterator)\n\u001b[1;32m    317\u001b[0m \u001b[38;5;28;01mtry\u001b[39;00m:\n\u001b[0;32m--> 318\u001b[0m     prev \u001b[38;5;241m=\u001b[39m \u001b[38;5;28;43mnext\u001b[39;49m\u001b[43m(\u001b[49m\u001b[43miterator\u001b[49m\u001b[43m)\u001b[49m\n\u001b[1;32m    319\u001b[0m \u001b[38;5;28;01mexcept\u001b[39;00m \u001b[38;5;167;01mStopIteration\u001b[39;00m:\n\u001b[1;32m    320\u001b[0m     \u001b[38;5;28;01mreturn\u001b[39;00m\n",
      "File \u001b[0;32m~/opt/anaconda3/lib/python3.9/site-packages/nltk/tokenize/punkt.py:1395\u001b[0m, in \u001b[0;36mPunktSentenceTokenizer._slices_from_text\u001b[0;34m(self, text)\u001b[0m\n\u001b[1;32m   1393\u001b[0m \u001b[38;5;28;01mdef\u001b[39;00m \u001b[38;5;21m_slices_from_text\u001b[39m(\u001b[38;5;28mself\u001b[39m, text):\n\u001b[1;32m   1394\u001b[0m     last_break \u001b[38;5;241m=\u001b[39m \u001b[38;5;241m0\u001b[39m\n\u001b[0;32m-> 1395\u001b[0m     \u001b[38;5;28;01mfor\u001b[39;00m match, context \u001b[38;5;129;01min\u001b[39;00m \u001b[38;5;28;43mself\u001b[39;49m\u001b[38;5;241;43m.\u001b[39;49m\u001b[43m_match_potential_end_contexts\u001b[49m\u001b[43m(\u001b[49m\u001b[43mtext\u001b[49m\u001b[43m)\u001b[49m:\n\u001b[1;32m   1396\u001b[0m         \u001b[38;5;28;01mif\u001b[39;00m \u001b[38;5;28mself\u001b[39m\u001b[38;5;241m.\u001b[39mtext_contains_sentbreak(context):\n\u001b[1;32m   1397\u001b[0m             \u001b[38;5;28;01myield\u001b[39;00m \u001b[38;5;28mslice\u001b[39m(last_break, match\u001b[38;5;241m.\u001b[39mend())\n",
      "File \u001b[0;32m~/opt/anaconda3/lib/python3.9/site-packages/nltk/tokenize/punkt.py:1380\u001b[0m, in \u001b[0;36mPunktSentenceTokenizer._match_potential_end_contexts\u001b[0;34m(self, text)\u001b[0m\n\u001b[1;32m   1378\u001b[0m     \u001b[38;5;28;01mcontinue\u001b[39;00m\n\u001b[1;32m   1379\u001b[0m \u001b[38;5;66;03m# Find the word before the current match\u001b[39;00m\n\u001b[0;32m-> 1380\u001b[0m split \u001b[38;5;241m=\u001b[39m \u001b[43mtext\u001b[49m\u001b[43m[\u001b[49m\u001b[43m:\u001b[49m\u001b[43m \u001b[49m\u001b[43mmatch\u001b[49m\u001b[38;5;241;43m.\u001b[39;49m\u001b[43mstart\u001b[49m\u001b[43m(\u001b[49m\u001b[43m)\u001b[49m\u001b[43m]\u001b[49m\u001b[38;5;241m.\u001b[39mrsplit(maxsplit\u001b[38;5;241m=\u001b[39m\u001b[38;5;241m1\u001b[39m)\n\u001b[1;32m   1381\u001b[0m before_start \u001b[38;5;241m=\u001b[39m \u001b[38;5;28mlen\u001b[39m(split[\u001b[38;5;241m0\u001b[39m]) \u001b[38;5;28;01mif\u001b[39;00m \u001b[38;5;28mlen\u001b[39m(split) \u001b[38;5;241m==\u001b[39m \u001b[38;5;241m2\u001b[39m \u001b[38;5;28;01melse\u001b[39;00m \u001b[38;5;241m0\u001b[39m\n\u001b[1;32m   1382\u001b[0m before_words[match] \u001b[38;5;241m=\u001b[39m split[\u001b[38;5;241m-\u001b[39m\u001b[38;5;241m1\u001b[39m] \u001b[38;5;28;01mif\u001b[39;00m split \u001b[38;5;28;01melse\u001b[39;00m \u001b[38;5;124m\"\u001b[39m\u001b[38;5;124m\"\u001b[39m\n",
      "\u001b[0;31mKeyboardInterrupt\u001b[0m: "
     ]
    }
   ],
   "source": [
    "# Positive-associated words\n",
    "common_words(positive_service, 'text', punctuations, stopwords)"
   ]
  },
  {
   "cell_type": "markdown",
   "id": "1fbd3b45",
   "metadata": {},
   "source": [
    "Some words that can indicate good service (based on common words from positive reviews):\n",
    "* Friendly\n",
    "* Nice\n",
    "* Fast\n",
    "* Attentive\n",
    "* Quick\n"
   ]
  },
  {
   "cell_type": "markdown",
   "id": "b355a3d2",
   "metadata": {},
   "source": [
    "# Find correlation between service sentiment and star rating"
   ]
  },
  {
   "cell_type": "code",
   "execution_count": 366,
   "id": "baccbe08",
   "metadata": {},
   "outputs": [],
   "source": [
    "service_dict = {'customer_stars': [], 'sentence': []}\n",
    "\n",
    "for i in range(len(reviews)):\n",
    "    sent = ([sentence + '.' for sentence in str(reviews.iloc[i]['text_']).split('.') \n",
    "             if ('service' or 'server' or 'staff' or 'waiter' or 'waitress') in sentence])\n",
    "    service_dict['customer_stars'].append(reviews.iloc[i]['customer_stars'])\n",
    "    service_dict['sentence'].append(sent)\n"
   ]
  },
  {
   "cell_type": "code",
   "execution_count": 398,
   "id": "6fd9345b",
   "metadata": {},
   "outputs": [],
   "source": [
    "service_df = pd.DataFrame(service_dict)\n",
    "service_df = service_df.loc[service_df['sentence'].str.len() == 1] # get non-empty values\n",
    "service_df = service_df.explode('sentence') # remove listing from each sentence"
   ]
  },
  {
   "cell_type": "code",
   "execution_count": 402,
   "id": "180478f2",
   "metadata": {},
   "outputs": [],
   "source": [
    "service_df['sentiment_scores'] = service_df.apply(lambda x: vader.polarity_scores(x['sentence'])['compound'], axis = 1)\n"
   ]
  },
  {
   "cell_type": "code",
   "execution_count": 403,
   "id": "cc062dbb",
   "metadata": {},
   "outputs": [
    {
     "data": {
      "text/html": [
       "<div>\n",
       "<style scoped>\n",
       "    .dataframe tbody tr th:only-of-type {\n",
       "        vertical-align: middle;\n",
       "    }\n",
       "\n",
       "    .dataframe tbody tr th {\n",
       "        vertical-align: top;\n",
       "    }\n",
       "\n",
       "    .dataframe thead th {\n",
       "        text-align: right;\n",
       "    }\n",
       "</style>\n",
       "<table border=\"1\" class=\"dataframe\">\n",
       "  <thead>\n",
       "    <tr style=\"text-align: right;\">\n",
       "      <th></th>\n",
       "      <th>customer_stars</th>\n",
       "      <th>sentence</th>\n",
       "      <th>sentiment_scores</th>\n",
       "    </tr>\n",
       "  </thead>\n",
       "  <tbody>\n",
       "    <tr>\n",
       "      <th>0</th>\n",
       "      <td>4</td>\n",
       "      <td>I have been here twice and have had really goo...</td>\n",
       "      <td>0.4927</td>\n",
       "    </tr>\n",
       "    <tr>\n",
       "      <th>3</th>\n",
       "      <td>5</td>\n",
       "      <td>will select thicker noodle for sure and perhap...</td>\n",
       "      <td>0.8799</td>\n",
       "    </tr>\n",
       "    <tr>\n",
       "      <th>4</th>\n",
       "      <td>4</td>\n",
       "      <td>The service is great and the servers do a gr...</td>\n",
       "      <td>0.9441</td>\n",
       "    </tr>\n",
       "    <tr>\n",
       "      <th>5</th>\n",
       "      <td>4</td>\n",
       "      <td>\\n\\nThe service is great -- cheap drinks, whi...</td>\n",
       "      <td>0.6249</td>\n",
       "    </tr>\n",
       "    <tr>\n",
       "      <th>7</th>\n",
       "      <td>3</td>\n",
       "      <td>Believe me the food is great, service is ok, ...</td>\n",
       "      <td>0.7430</td>\n",
       "    </tr>\n",
       "    <tr>\n",
       "      <th>...</th>\n",
       "      <td>...</td>\n",
       "      <td>...</td>\n",
       "      <td>...</td>\n",
       "    </tr>\n",
       "    <tr>\n",
       "      <th>4302861</th>\n",
       "      <td>5</td>\n",
       "      <td>\\n\\nThe food was delicious, the atmosphere fun...</td>\n",
       "      <td>0.8807</td>\n",
       "    </tr>\n",
       "    <tr>\n",
       "      <th>4302865</th>\n",
       "      <td>1</td>\n",
       "      <td>Very poor service.</td>\n",
       "      <td>-0.5256</td>\n",
       "    </tr>\n",
       "    <tr>\n",
       "      <th>4302873</th>\n",
       "      <td>2</td>\n",
       "      <td>Very disappointed in this level of service!.</td>\n",
       "      <td>-0.5697</td>\n",
       "    </tr>\n",
       "    <tr>\n",
       "      <th>4302874</th>\n",
       "      <td>4</td>\n",
       "      <td>\\nWe will continue to come back not only for ...</td>\n",
       "      <td>0.8225</td>\n",
       "    </tr>\n",
       "    <tr>\n",
       "      <th>4302875</th>\n",
       "      <td>5</td>\n",
       "      <td>Please support this place! They are trying to ...</td>\n",
       "      <td>0.9611</td>\n",
       "    </tr>\n",
       "  </tbody>\n",
       "</table>\n",
       "<p>959879 rows × 3 columns</p>\n",
       "</div>"
      ],
      "text/plain": [
       "         customer_stars                                           sentence  \\\n",
       "0                     4  I have been here twice and have had really goo...   \n",
       "3                     5  will select thicker noodle for sure and perhap...   \n",
       "4                     4    The service is great and the servers do a gr...   \n",
       "5                     4   \\n\\nThe service is great -- cheap drinks, whi...   \n",
       "7                     3   Believe me the food is great, service is ok, ...   \n",
       "...                 ...                                                ...   \n",
       "4302861               5  \\n\\nThe food was delicious, the atmosphere fun...   \n",
       "4302865               1                                 Very poor service.   \n",
       "4302873               2       Very disappointed in this level of service!.   \n",
       "4302874               4   \\nWe will continue to come back not only for ...   \n",
       "4302875               5  Please support this place! They are trying to ...   \n",
       "\n",
       "         sentiment_scores  \n",
       "0                  0.4927  \n",
       "3                  0.8799  \n",
       "4                  0.9441  \n",
       "5                  0.6249  \n",
       "7                  0.7430  \n",
       "...                   ...  \n",
       "4302861            0.8807  \n",
       "4302865           -0.5256  \n",
       "4302873           -0.5697  \n",
       "4302874            0.8225  \n",
       "4302875            0.9611  \n",
       "\n",
       "[959879 rows x 3 columns]"
      ]
     },
     "execution_count": 403,
     "metadata": {},
     "output_type": "execute_result"
    }
   ],
   "source": [
    "service_df"
   ]
  },
  {
   "cell_type": "code",
   "execution_count": 408,
   "id": "28bad82b",
   "metadata": {},
   "outputs": [
    {
     "data": {
      "image/png": "[encoded data removed]",
      "text/plain": [
       "<Figure size 432x288 with 1 Axes>"
      ]
     },
     "metadata": {
      "needs_background": "light"
     },
     "output_type": "display_data"
    }
   ],
   "source": [
    "ax = sns.barplot(data=service_df, x='customer_stars', y='sentiment_scores')\n",
    "ax.set_title('Sentiment Score About Service by Customer Star Review')\n",
    "plt.show()"
   ]
  }
 ],
 "metadata": {
  "kernelspec": {
   "display_name": "Python 3 (ipykernel)",
   "language": "python",
   "name": "python3"
  },
  "language_info": {
   "codemirror_mode": {
    "name": "ipython",
    "version": 3
   },
   "file_extension": ".py",
   "mimetype": "text/x-python",
   "name": "python",
   "nbconvert_exporter": "python",
   "pygments_lexer": "ipython3",
   "version": "3.9.12"
  }
 },
 "nbformat": 4,
 "nbformat_minor": 5
}
