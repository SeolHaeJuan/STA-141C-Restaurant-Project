{
 "cells": [
  {
   "cell_type": "code",
   "execution_count": 32,
   "id": "71f49c7a",
   "metadata": {},
   "outputs": [],
   "source": [
    "import pandas as pd\n",
    "import numpy as np\n",
    "import matplotlib.pyplot as plt\n",
    "import nltk\n",
    "import pprint\n",
    "from nltk.sentiment.vader import SentimentIntensityAnalyzer\n",
    "from nltk.corpus import stopwords\n",
    "from nltk.tokenize import word_tokenize\n",
    "from matplotlib.ticker import StrMethodFormatter\n",
    "import seaborn as sns\n",
    "import string\n",
    "from collections import Counter\n",
    "import csv\n",
    "import datetime\n",
    "import plotnine\n",
    "from plotnine import *\n",
    "import plotly.express as px\n",
    "from plotly import graph_objs as go\n",
    "pd.set_option('display.float_format', lambda x: '%.3f' % x)"
   ]
  },
  {
   "cell_type": "code",
   "execution_count": 33,
   "id": "4ef273b3",
   "metadata": {},
   "outputs": [],
   "source": [
    "post_covid = pd.read_csv('postcovid_reviews.csv')\n",
    "pre_covid = pd.read_csv('precovid_reviews.csv')"
   ]
  },
  {
   "cell_type": "code",
   "execution_count": 34,
   "id": "1e465a11",
   "metadata": {},
   "outputs": [],
   "source": [
    "pre_covid['Pre_covid'] = True\n",
    "post_covid['Pre_covid'] = False\n",
    "colnames = list(pre_covid)"
   ]
  },
  {
   "cell_type": "code",
   "execution_count": 35,
   "id": "81d35245",
   "metadata": {},
   "outputs": [],
   "source": [
    "reviews = pre_covid.merge(post_covid,on=colnames, how='outer')\n",
    "reviews = reviews[reviews['is_open'] == True] \n",
    "#reviews.columns"
   ]
  },
  {
   "cell_type": "code",
   "execution_count": 11,
   "id": "b3da5e5d",
   "metadata": {},
   "outputs": [
    {
     "data": {
      "text/html": [
       "<div>\n",
       "<style scoped>\n",
       "    .dataframe tbody tr th:only-of-type {\n",
       "        vertical-align: middle;\n",
       "    }\n",
       "\n",
       "    .dataframe tbody tr th {\n",
       "        vertical-align: top;\n",
       "    }\n",
       "\n",
       "    .dataframe thead th {\n",
       "        text-align: right;\n",
       "    }\n",
       "</style>\n",
       "<table border=\"1\" class=\"dataframe\">\n",
       "  <thead>\n",
       "    <tr style=\"text-align: right;\">\n",
       "      <th></th>\n",
       "      <th>latitude</th>\n",
       "      <th>longitude</th>\n",
       "      <th>stars</th>\n",
       "      <th>review_count</th>\n",
       "      <th>is_open</th>\n",
       "      <th>customer_stars</th>\n",
       "      <th>useful</th>\n",
       "      <th>funny</th>\n",
       "      <th>cool</th>\n",
       "    </tr>\n",
       "  </thead>\n",
       "  <tbody>\n",
       "    <tr>\n",
       "      <th>count</th>\n",
       "      <td>4302877.000</td>\n",
       "      <td>4302877.000</td>\n",
       "      <td>4302877.000</td>\n",
       "      <td>4302877.000</td>\n",
       "      <td>4302877.000</td>\n",
       "      <td>4302877.000</td>\n",
       "      <td>4302877.000</td>\n",
       "      <td>4302877.000</td>\n",
       "      <td>4302877.000</td>\n",
       "    </tr>\n",
       "    <tr>\n",
       "      <th>mean</th>\n",
       "      <td>38.135</td>\n",
       "      <td>-92.499</td>\n",
       "      <td>3.794</td>\n",
       "      <td>562.688</td>\n",
       "      <td>1.000</td>\n",
       "      <td>3.793</td>\n",
       "      <td>0.945</td>\n",
       "      <td>0.366</td>\n",
       "      <td>0.475</td>\n",
       "    </tr>\n",
       "    <tr>\n",
       "      <th>std</th>\n",
       "      <td>6.998</td>\n",
       "      <td>19.353</td>\n",
       "      <td>0.583</td>\n",
       "      <td>879.243</td>\n",
       "      <td>0.000</td>\n",
       "      <td>1.361</td>\n",
       "      <td>2.654</td>\n",
       "      <td>1.730</td>\n",
       "      <td>2.161</td>\n",
       "    </tr>\n",
       "    <tr>\n",
       "      <th>min</th>\n",
       "      <td>28.063</td>\n",
       "      <td>-123.350</td>\n",
       "      <td>1.000</td>\n",
       "      <td>5.000</td>\n",
       "      <td>1.000</td>\n",
       "      <td>1.000</td>\n",
       "      <td>0.000</td>\n",
       "      <td>0.000</td>\n",
       "      <td>0.000</td>\n",
       "    </tr>\n",
       "    <tr>\n",
       "      <th>25%</th>\n",
       "      <td>30.316</td>\n",
       "      <td>-105.278</td>\n",
       "      <td>3.500</td>\n",
       "      <td>136.000</td>\n",
       "      <td>1.000</td>\n",
       "      <td>3.000</td>\n",
       "      <td>0.000</td>\n",
       "      <td>0.000</td>\n",
       "      <td>0.000</td>\n",
       "    </tr>\n",
       "    <tr>\n",
       "      <th>50%</th>\n",
       "      <td>40.064</td>\n",
       "      <td>-84.367</td>\n",
       "      <td>4.000</td>\n",
       "      <td>308.000</td>\n",
       "      <td>1.000</td>\n",
       "      <td>4.000</td>\n",
       "      <td>0.000</td>\n",
       "      <td>0.000</td>\n",
       "      <td>0.000</td>\n",
       "    </tr>\n",
       "    <tr>\n",
       "      <th>75%</th>\n",
       "      <td>42.551</td>\n",
       "      <td>-81.255</td>\n",
       "      <td>4.000</td>\n",
       "      <td>631.000</td>\n",
       "      <td>1.000</td>\n",
       "      <td>5.000</td>\n",
       "      <td>1.000</td>\n",
       "      <td>0.000</td>\n",
       "      <td>0.000</td>\n",
       "    </tr>\n",
       "    <tr>\n",
       "      <th>max</th>\n",
       "      <td>49.460</td>\n",
       "      <td>71.113</td>\n",
       "      <td>5.000</td>\n",
       "      <td>9185.000</td>\n",
       "      <td>1.000</td>\n",
       "      <td>5.000</td>\n",
       "      <td>446.000</td>\n",
       "      <td>529.000</td>\n",
       "      <td>530.000</td>\n",
       "    </tr>\n",
       "  </tbody>\n",
       "</table>\n",
       "</div>"
      ],
      "text/plain": [
       "         latitude   longitude       stars  review_count     is_open  \\\n",
       "count 4302877.000 4302877.000 4302877.000   4302877.000 4302877.000   \n",
       "mean       38.135     -92.499       3.794       562.688       1.000   \n",
       "std         6.998      19.353       0.583       879.243       0.000   \n",
       "min        28.063    -123.350       1.000         5.000       1.000   \n",
       "25%        30.316    -105.278       3.500       136.000       1.000   \n",
       "50%        40.064     -84.367       4.000       308.000       1.000   \n",
       "75%        42.551     -81.255       4.000       631.000       1.000   \n",
       "max        49.460      71.113       5.000      9185.000       1.000   \n",
       "\n",
       "       customer_stars      useful       funny        cool  \n",
       "count     4302877.000 4302877.000 4302877.000 4302877.000  \n",
       "mean            3.793       0.945       0.366       0.475  \n",
       "std             1.361       2.654       1.730       2.161  \n",
       "min             1.000       0.000       0.000       0.000  \n",
       "25%             3.000       0.000       0.000       0.000  \n",
       "50%             4.000       0.000       0.000       0.000  \n",
       "75%             5.000       1.000       0.000       0.000  \n",
       "max             5.000     446.000     529.000     530.000  "
      ]
     },
     "execution_count": 11,
     "metadata": {},
     "output_type": "execute_result"
    }
   ],
   "source": [
    "reviews.describe()"
   ]
  },
  {
   "cell_type": "code",
   "execution_count": 81,
   "id": "b9f1808b",
   "metadata": {},
   "outputs": [],
   "source": [
    "reviews[['Date', 'Time']]= reviews['date_'].str.split(\" +\",expand = True)\n",
    "reviews[['Year', 'Month', 'Day']] = reviews['Date'].str.split(\"-\",expand = True)\n",
    "reviews.drop(['date_', 'Date'],axis=1,inplace=True)"
   ]
  },
  {
   "cell_type": "code",
   "execution_count": 82,
   "id": "a148bfe2",
   "metadata": {},
   "outputs": [],
   "source": [
    "cnt = reviews.groupby('Year').size().rename('Count')\n",
    "dates = reviews.drop_duplicates(subset='Year').merge(cnt, left_on='Year', right_index=True)\n",
    "dates['Year'] = pd.to_numeric(dates['Year'])\n",
    "dates = dates[~(dates['Year'] == 2021)]"
   ]
  },
  {
   "cell_type": "code",
   "execution_count": 87,
   "id": "ccb09f50",
   "metadata": {},
   "outputs": [
    {
     "data": {
      "image/png": "[encoded data removed]",
      "text/plain": [
       "<Figure size 640x480 with 1 Axes>"
      ]
     },
     "metadata": {},
     "output_type": "display_data"
    },
    {
     "data": {
      "text/plain": [
       "<ggplot: (8781788352979)>"
      ]
     },
     "execution_count": 87,
     "metadata": {},
     "output_type": "execute_result"
    }
   ],
   "source": [
    "(   ggplot(dates)  # plots data\n",
    "    + aes(x=\"Year\", y=\"Count\", group=1)  \n",
    "    + geom_point()\n",
    "    + geom_line()\n",
    "    + theme(axis_text_x=element_text(rotation=45, hjust=1))\n",
    "    + plotnine.labels.ylab('Number of reviews')\n",
    "     + plotnine.labels.ggtitle('Number of reviews per Year')\n",
    "\n",
    ")"
   ]
  },
  {
   "cell_type": "code",
   "execution_count": 8,
   "id": "12ca9b5b",
   "metadata": {},
   "outputs": [
    {
     "data": {
      "text/plain": [
       "32022"
      ]
     },
     "execution_count": 8,
     "metadata": {},
     "output_type": "execute_result"
    }
   ],
   "source": [
    "num_of_restaurants = len(reviews['business_id'].unique())\n",
    "num_of_restaurants"
   ]
  },
  {
   "cell_type": "markdown",
   "id": "a74d4617",
   "metadata": {},
   "source": [
    "# Plot"
   ]
  },
  {
   "cell_type": "code",
   "execution_count": 9,
   "id": "8461ed48",
   "metadata": {},
   "outputs": [],
   "source": [
    "def plot_stuff(data, x, y, ytickmin, ytickmax, xlabel, ylabel, title, png):\n",
    "    plt.figure(figsize=(8,4))\n",
    "    ax = sns.barplot(data=data,x=x, y=y)\n",
    "    ax.set_xticklabels(ax.get_xticklabels(), rotation=30, ha=\"right\")\n",
    "    ax.set_ylim([ytickmin, ytickmax])\n",
    "    plt.xlabel(xlabel)\n",
    "    plt.ylabel(ylabel)\n",
    "    plt.title(title)\n",
    "    plt.savefig(png, bbox_inches='tight')\n",
    "    plt.show()"
   ]
  },
  {
   "cell_type": "markdown",
   "id": "def509ab",
   "metadata": {},
   "source": [
    "### States with most restaurants"
   ]
  },
  {
   "cell_type": "code",
   "execution_count": 12,
   "id": "0238bde0",
   "metadata": {},
   "outputs": [],
   "source": [
    "reviews['state_'] = np.where(reviews['state_'] == 'ABE', 'BC', reviews['state_'])\n",
    "reviews['state_'] = np.where(reviews['state_'] == 'WA', 'OR', reviews['state_'])\n"
   ]
  },
  {
   "cell_type": "code",
   "execution_count": 13,
   "id": "5a1c17e7",
   "metadata": {},
   "outputs": [
    {
     "data": {
      "text/plain": [
       "array(['GA', 'BC', 'TX', 'MA', 'OR', 'FL', 'OH', 'CO'], dtype=object)"
      ]
     },
     "execution_count": 13,
     "metadata": {},
     "output_type": "execute_result"
    }
   ],
   "source": [
    "reviews = reviews.loc[reviews['state_'].isin(['GA', 'BC', 'TX', 'MA', 'OR', 'FL', 'OH', 'CO'])]\n",
    "reviews['state_'].unique()"
   ]
  },
  {
   "cell_type": "code",
   "execution_count": 114,
   "id": "62779d5d",
   "metadata": {},
   "outputs": [
    {
     "data": {
      "image/png": "[encoded data removed]",
      "text/plain": [
       "<Figure size 640x480 with 1 Axes>"
      ]
     },
     "metadata": {},
     "output_type": "display_data"
    }
   ],
   "source": [
    "unique_restaraunt_state = reviews.drop_duplicates(['business_id']).groupby('state_')['business_id'].count().reset_index().sort_values('business_id', ascending = False)\n",
    "unique_restaraunt_state = unique_restaraunt_state[unique_restaraunt_state['business_id'] > 2]\n",
    "ax = sns.barplot(data=unique_restaraunt_state,x=\"state_\", y=\"business_id\",alpha=0.8, palette = 'coolwarm')\n",
    "\n",
    "plt.xlabel('')\n",
    "plt.title(\"Regions With Most Restaurants\")\n",
    "plt.show()\n",
    "\n"
   ]
  },
  {
   "cell_type": "markdown",
   "id": "6710e917",
   "metadata": {},
   "source": [
    "### Restaurants with most reviews"
   ]
  },
  {
   "cell_type": "code",
   "execution_count": 13,
   "id": "fea763fb",
   "metadata": {},
   "outputs": [
    {
     "data": {
      "text/html": [
       "<div>\n",
       "<style scoped>\n",
       "    .dataframe tbody tr th:only-of-type {\n",
       "        vertical-align: middle;\n",
       "    }\n",
       "\n",
       "    .dataframe tbody tr th {\n",
       "        vertical-align: top;\n",
       "    }\n",
       "\n",
       "    .dataframe thead th {\n",
       "        text-align: right;\n",
       "    }\n",
       "</style>\n",
       "<table border=\"1\" class=\"dataframe\">\n",
       "  <thead>\n",
       "    <tr style=\"text-align: right;\">\n",
       "      <th></th>\n",
       "      <th>name</th>\n",
       "      <th>state_</th>\n",
       "      <th>review_count</th>\n",
       "      <th>categories</th>\n",
       "    </tr>\n",
       "  </thead>\n",
       "  <tbody>\n",
       "    <tr>\n",
       "      <th>256598</th>\n",
       "      <td>Voodoo Doughnut - Old Town</td>\n",
       "      <td>OR</td>\n",
       "      <td>9185</td>\n",
       "      <td>Local Flavor, Food, Donuts, Wedding Chapels, E...</td>\n",
       "    </tr>\n",
       "    <tr>\n",
       "      <th>584796</th>\n",
       "      <td>Mike's Pastry</td>\n",
       "      <td>MA</td>\n",
       "      <td>7298</td>\n",
       "      <td>Candy Stores, Gelato, Food, Coffee &amp; Tea, Rest...</td>\n",
       "    </tr>\n",
       "    <tr>\n",
       "      <th>171033</th>\n",
       "      <td>Screen Door</td>\n",
       "      <td>OR</td>\n",
       "      <td>7219</td>\n",
       "      <td>Caterers, Restaurants, Breakfast &amp; Brunch, Sou...</td>\n",
       "    </tr>\n",
       "    <tr>\n",
       "      <th>725451</th>\n",
       "      <td>Neptune Oyster</td>\n",
       "      <td>MA</td>\n",
       "      <td>5115</td>\n",
       "      <td>Arabian, Thai, American (Traditional), Live/Ra...</td>\n",
       "    </tr>\n",
       "    <tr>\n",
       "      <th>162412</th>\n",
       "      <td>Franklin Barbecue</td>\n",
       "      <td>TX</td>\n",
       "      <td>4942</td>\n",
       "      <td>Local Flavor, Salad, Sandwiches, Restaurants, ...</td>\n",
       "    </tr>\n",
       "    <tr>\n",
       "      <th>73418</th>\n",
       "      <td>Moonshine Patio Bar &amp; Grill</td>\n",
       "      <td>TX</td>\n",
       "      <td>4833</td>\n",
       "      <td>Venues &amp; Event Spaces, American (Traditional),...</td>\n",
       "    </tr>\n",
       "    <tr>\n",
       "      <th>11</th>\n",
       "      <td>Hopdoddy Burger Bar</td>\n",
       "      <td>TX</td>\n",
       "      <td>4708</td>\n",
       "      <td>American (New), American (Traditional), Restau...</td>\n",
       "    </tr>\n",
       "    <tr>\n",
       "      <th>501586</th>\n",
       "      <td>The Salt Lick BBQ</td>\n",
       "      <td>TX</td>\n",
       "      <td>4524</td>\n",
       "      <td>Food, Wineries, Restaurants, Arts &amp; Entertainm...</td>\n",
       "    </tr>\n",
       "    <tr>\n",
       "      <th>575134</th>\n",
       "      <td>Mother’s Bistro &amp; Bar</td>\n",
       "      <td>OR</td>\n",
       "      <td>4466</td>\n",
       "      <td>American (Traditional), Restaurants, Bars, Nig...</td>\n",
       "    </tr>\n",
       "    <tr>\n",
       "      <th>96200</th>\n",
       "      <td>Powell's City of Books</td>\n",
       "      <td>OR</td>\n",
       "      <td>4295</td>\n",
       "      <td>Food, Airports, Bookstores, Flowers &amp; Gifts, C...</td>\n",
       "    </tr>\n",
       "  </tbody>\n",
       "</table>\n",
       "</div>"
      ],
      "text/plain": [
       "                               name state_  review_count  \\\n",
       "256598   Voodoo Doughnut - Old Town     OR          9185   \n",
       "584796                Mike's Pastry     MA          7298   \n",
       "171033                  Screen Door     OR          7219   \n",
       "725451               Neptune Oyster     MA          5115   \n",
       "162412            Franklin Barbecue     TX          4942   \n",
       "73418   Moonshine Patio Bar & Grill     TX          4833   \n",
       "11              Hopdoddy Burger Bar     TX          4708   \n",
       "501586            The Salt Lick BBQ     TX          4524   \n",
       "575134        Mother’s Bistro & Bar     OR          4466   \n",
       "96200        Powell's City of Books     OR          4295   \n",
       "\n",
       "                                               categories  \n",
       "256598  Local Flavor, Food, Donuts, Wedding Chapels, E...  \n",
       "584796  Candy Stores, Gelato, Food, Coffee & Tea, Rest...  \n",
       "171033  Caterers, Restaurants, Breakfast & Brunch, Sou...  \n",
       "725451  Arabian, Thai, American (Traditional), Live/Ra...  \n",
       "162412  Local Flavor, Salad, Sandwiches, Restaurants, ...  \n",
       "73418   Venues & Event Spaces, American (Traditional),...  \n",
       "11      American (New), American (Traditional), Restau...  \n",
       "501586  Food, Wineries, Restaurants, Arts & Entertainm...  \n",
       "575134  American (Traditional), Restaurants, Bars, Nig...  \n",
       "96200   Food, Airports, Bookstores, Flowers & Gifts, C...  "
      ]
     },
     "execution_count": 13,
     "metadata": {},
     "output_type": "execute_result"
    }
   ],
   "source": [
    "df = reviews[['name', 'state_', 'review_count','categories']].drop_duplicates()\n",
    "most_reviewed = df[df['categories'].str.contains('Restaurant.*') ==True]\n",
    "most_reviewed = most_reviewed.sort_values('review_count', ascending = False).head(10)\n",
    "most_reviewed"
   ]
  },
  {
   "cell_type": "code",
   "execution_count": 14,
   "id": "123de4fa",
   "metadata": {},
   "outputs": [
    {
     "data": {
      "image/png": "[encoded data removed]",
      "text/plain": [
       "<Figure size 800x400 with 1 Axes>"
      ]
     },
     "metadata": {},
     "output_type": "display_data"
    }
   ],
   "source": [
    "plot_stuff(most_reviewed, 'name', 'review_count', 2000, 9500, None, 'Num of reviews', 'Restaurants With Most Reviews', 'most_reviews.png')\n"
   ]
  },
  {
   "cell_type": "markdown",
   "id": "b2b477ba",
   "metadata": {},
   "source": [
    "## Most popular restaurants with atleast 500 reviews"
   ]
  },
  {
   "cell_type": "code",
   "execution_count": 115,
   "id": "4df97cd1",
   "metadata": {},
   "outputs": [
    {
     "data": {
      "text/html": [
       "<div>\n",
       "<style scoped>\n",
       "    .dataframe tbody tr th:only-of-type {\n",
       "        vertical-align: middle;\n",
       "    }\n",
       "\n",
       "    .dataframe tbody tr th {\n",
       "        vertical-align: top;\n",
       "    }\n",
       "\n",
       "    .dataframe thead th {\n",
       "        text-align: right;\n",
       "    }\n",
       "</style>\n",
       "<table border=\"1\" class=\"dataframe\">\n",
       "  <thead>\n",
       "    <tr style=\"text-align: right;\">\n",
       "      <th></th>\n",
       "      <th>name</th>\n",
       "      <th>review_count</th>\n",
       "      <th>customer_stars</th>\n",
       "      <th>state_</th>\n",
       "    </tr>\n",
       "  </thead>\n",
       "  <tbody>\n",
       "    <tr>\n",
       "      <th>9468</th>\n",
       "      <td>Jewboy Burgers</td>\n",
       "      <td>516</td>\n",
       "      <td>4.856</td>\n",
       "      <td>TX</td>\n",
       "    </tr>\n",
       "    <tr>\n",
       "      <th>1183</th>\n",
       "      <td>Aviva by Kameel</td>\n",
       "      <td>1532</td>\n",
       "      <td>4.824</td>\n",
       "      <td>GA</td>\n",
       "    </tr>\n",
       "    <tr>\n",
       "      <th>4224</th>\n",
       "      <td>Ciao! Pizza &amp; Pasta</td>\n",
       "      <td>733</td>\n",
       "      <td>4.816</td>\n",
       "      <td>MA</td>\n",
       "    </tr>\n",
       "    <tr>\n",
       "      <th>21292</th>\n",
       "      <td>Tōv</td>\n",
       "      <td>503</td>\n",
       "      <td>4.801</td>\n",
       "      <td>OR</td>\n",
       "    </tr>\n",
       "    <tr>\n",
       "      <th>18573</th>\n",
       "      <td>Swiss Hibiscus</td>\n",
       "      <td>510</td>\n",
       "      <td>4.787</td>\n",
       "      <td>OR</td>\n",
       "    </tr>\n",
       "    <tr>\n",
       "      <th>15539</th>\n",
       "      <td>Powell's City of Books</td>\n",
       "      <td>4295</td>\n",
       "      <td>4.770</td>\n",
       "      <td>OR</td>\n",
       "    </tr>\n",
       "    <tr>\n",
       "      <th>14234</th>\n",
       "      <td>Ovation Coffee &amp; Tea</td>\n",
       "      <td>740</td>\n",
       "      <td>4.763</td>\n",
       "      <td>OR</td>\n",
       "    </tr>\n",
       "    <tr>\n",
       "      <th>37</th>\n",
       "      <td>1618 Asian Fusion</td>\n",
       "      <td>641</td>\n",
       "      <td>4.746</td>\n",
       "      <td>TX</td>\n",
       "    </tr>\n",
       "    <tr>\n",
       "      <th>19385</th>\n",
       "      <td>Thai Wok Kitchen</td>\n",
       "      <td>556</td>\n",
       "      <td>4.714</td>\n",
       "      <td>WA</td>\n",
       "    </tr>\n",
       "    <tr>\n",
       "      <th>16889</th>\n",
       "      <td>Santorini Cafe</td>\n",
       "      <td>736</td>\n",
       "      <td>4.702</td>\n",
       "      <td>TX</td>\n",
       "    </tr>\n",
       "    <tr>\n",
       "      <th>2006</th>\n",
       "      <td>Bird Bird Biscuit</td>\n",
       "      <td>837</td>\n",
       "      <td>4.661</td>\n",
       "      <td>TX</td>\n",
       "    </tr>\n",
       "    <tr>\n",
       "      <th>15142</th>\n",
       "      <td>Pip's Original Doughnuts &amp; Chai</td>\n",
       "      <td>2482</td>\n",
       "      <td>4.660</td>\n",
       "      <td>OR</td>\n",
       "    </tr>\n",
       "  </tbody>\n",
       "</table>\n",
       "</div>"
      ],
      "text/plain": [
       "                                  name  review_count  customer_stars state_\n",
       "9468                    Jewboy Burgers           516           4.856     TX\n",
       "1183                   Aviva by Kameel          1532           4.824     GA\n",
       "4224               Ciao! Pizza & Pasta           733           4.816     MA\n",
       "21292                              Tōv           503           4.801     OR\n",
       "18573                   Swiss Hibiscus           510           4.787     OR\n",
       "15539           Powell's City of Books          4295           4.770     OR\n",
       "14234             Ovation Coffee & Tea           740           4.763     OR\n",
       "37                   1618 Asian Fusion           641           4.746     TX\n",
       "19385                 Thai Wok Kitchen           556           4.714     WA\n",
       "16889                   Santorini Cafe           736           4.702     TX\n",
       "2006                 Bird Bird Biscuit           837           4.661     TX\n",
       "15142  Pip's Original Doughnuts & Chai          2482           4.660     OR"
      ]
     },
     "execution_count": 115,
     "metadata": {},
     "output_type": "execute_result"
    }
   ],
   "source": [
    "most_popular = reviews[['name', 'state_','review_count', 'customer_stars']]\n",
    "popularity = most_popular.groupby('name', as_index=False).agg({'review_count':'max', 'customer_stars':'mean', 'state_':'max'})\n",
    "most_popular = popularity[popularity['review_count'] >= 500].sort_values('customer_stars', ascending = False).head(12)\n",
    "\n",
    "most_popular\n",
    "\n"
   ]
  },
  {
   "cell_type": "code",
   "execution_count": 116,
   "id": "e9534eec",
   "metadata": {},
   "outputs": [
    {
     "data": {
      "application/vnd.plotly.v1+json": {
       "config": {
        "plotlyServerURL": "https://plot.ly"
       },
       "data": [
        {
         "alignmentgroup": "True",
         "hovertemplate": "state_=TX<br>name=%{x}<br>customer_stars=%{y}<extra></extra>",
         "legendgroup": "TX",
         "marker": {
          "color": "#636efa",
          "pattern": {
           "shape": ""
          }
         },
         "name": "TX",
         "offsetgroup": "TX",
         "orientation": "v",
         "showlegend": true,
         "textposition": "auto",
         "type": "bar",
         "x": [
          "Jewboy Burgers",
          "1618 Asian Fusion",
          "Santorini Cafe",
          "Bird Bird Biscuit"
         ],
         "xaxis": "x",
         "y": [
          4.85632183908046,
          4.745864661654135,
          4.701570680628272,
          4.660839160839161
         ],
         "yaxis": "y"
        },
        {
         "alignmentgroup": "True",
         "hovertemplate": "state_=GA<br>name=%{x}<br>customer_stars=%{y}<extra></extra>",
         "legendgroup": "GA",
         "marker": {
          "color": "#EF553B",
          "pattern": {
           "shape": ""
          }
         },
         "name": "GA",
         "offsetgroup": "GA",
         "orientation": "v",
         "showlegend": true,
         "textposition": "auto",
         "type": "bar",
         "x": [
          "Aviva by Kameel"
         ],
         "xaxis": "x",
         "y": [
          4.824281150159744
         ],
         "yaxis": "y"
        },
        {
         "alignmentgroup": "True",
         "hovertemplate": "state_=MA<br>name=%{x}<br>customer_stars=%{y}<extra></extra>",
         "legendgroup": "MA",
         "marker": {
          "color": "#00cc96",
          "pattern": {
           "shape": ""
          }
         },
         "name": "MA",
         "offsetgroup": "MA",
         "orientation": "v",
         "showlegend": true,
         "textposition": "auto",
         "type": "bar",
         "x": [
          "Ciao! Pizza & Pasta"
         ],
         "xaxis": "x",
         "y": [
          4.816245006657789
         ],
         "yaxis": "y"
        },
        {
         "alignmentgroup": "True",
         "hovertemplate": "state_=OR<br>name=%{x}<br>customer_stars=%{y}<extra></extra>",
         "legendgroup": "OR",
         "marker": {
          "color": "#ab63fa",
          "pattern": {
           "shape": ""
          }
         },
         "name": "OR",
         "offsetgroup": "OR",
         "orientation": "v",
         "showlegend": true,
         "textposition": "auto",
         "type": "bar",
         "x": [
          "Tōv",
          "Swiss Hibiscus",
          "Powell's City of Books",
          "Ovation Coffee & Tea",
          "Pip's Original Doughnuts & Chai"
         ],
         "xaxis": "x",
         "y": [
          4.800796812749004,
          4.786915887850467,
          4.770260909720619,
          4.762982689747004,
          4.660228616476153
         ],
         "yaxis": "y"
        },
        {
         "alignmentgroup": "True",
         "hovertemplate": "state_=WA<br>name=%{x}<br>customer_stars=%{y}<extra></extra>",
         "legendgroup": "WA",
         "marker": {
          "color": "#FFA15A",
          "pattern": {
           "shape": ""
          }
         },
         "name": "WA",
         "offsetgroup": "WA",
         "orientation": "v",
         "showlegend": true,
         "textposition": "auto",
         "type": "bar",
         "x": [
          "Thai Wok Kitchen"
         ],
         "xaxis": "x",
         "y": [
          4.713798977853492
         ],
         "yaxis": "y"
        }
       ],
       "layout": {
        "barmode": "stack",
        "legend": {
         "title": {
          "text": "state_"
         },
         "tracegroupgap": 0
        },
        "template": {
         "data": {
          "bar": [
           {
            "error_x": {
             "color": "#2a3f5f"
            },
            "error_y": {
             "color": "#2a3f5f"
            },
            "marker": {
             "line": {
              "color": "#E5ECF6",
              "width": 0.5
             },
             "pattern": {
              "fillmode": "overlay",
              "size": 10,
              "solidity": 0.2
             }
            },
            "type": "bar"
           }
          ],
          "barpolar": [
           {
            "marker": {
             "line": {
              "color": "#E5ECF6",
              "width": 0.5
             },
             "pattern": {
              "fillmode": "overlay",
              "size": 10,
              "solidity": 0.2
             }
            },
            "type": "barpolar"
           }
          ],
          "carpet": [
           {
            "aaxis": {
             "endlinecolor": "#2a3f5f",
             "gridcolor": "white",
             "linecolor": "white",
             "minorgridcolor": "white",
             "startlinecolor": "#2a3f5f"
            },
            "baxis": {
             "endlinecolor": "#2a3f5f",
             "gridcolor": "white",
             "linecolor": "white",
             "minorgridcolor": "white",
             "startlinecolor": "#2a3f5f"
            },
            "type": "carpet"
           }
          ],
          "choropleth": [
           {
            "colorbar": {
             "outlinewidth": 0,
             "ticks": ""
            },
            "type": "choropleth"
           }
          ],
          "contour": [
           {
            "colorbar": {
             "outlinewidth": 0,
             "ticks": ""
            },
            "colorscale": [
             [
              0,
              "#0d0887"
             ],
             [
              0.1111111111111111,
              "#46039f"
             ],
             [
              0.2222222222222222,
              "#7201a8"
             ],
             [
              0.3333333333333333,
              "#9c179e"
             ],
             [
              0.4444444444444444,
              "#bd3786"
             ],
             [
              0.5555555555555556,
              "#d8576b"
             ],
             [
              0.6666666666666666,
              "#ed7953"
             ],
             [
              0.7777777777777778,
              "#fb9f3a"
             ],
             [
              0.8888888888888888,
              "#fdca26"
             ],
             [
              1,
              "#f0f921"
             ]
            ],
            "type": "contour"
           }
          ],
          "contourcarpet": [
           {
            "colorbar": {
             "outlinewidth": 0,
             "ticks": ""
            },
            "type": "contourcarpet"
           }
          ],
          "heatmap": [
           {
            "colorbar": {
             "outlinewidth": 0,
             "ticks": ""
            },
            "colorscale": [
             [
              0,
              "#0d0887"
             ],
             [
              0.1111111111111111,
              "#46039f"
             ],
             [
              0.2222222222222222,
              "#7201a8"
             ],
             [
              0.3333333333333333,
              "#9c179e"
             ],
             [
              0.4444444444444444,
              "#bd3786"
             ],
             [
              0.5555555555555556,
              "#d8576b"
             ],
             [
              0.6666666666666666,
              "#ed7953"
             ],
             [
              0.7777777777777778,
              "#fb9f3a"
             ],
             [
              0.8888888888888888,
              "#fdca26"
             ],
             [
              1,
              "#f0f921"
             ]
            ],
            "type": "heatmap"
           }
          ],
          "heatmapgl": [
           {
            "colorbar": {
             "outlinewidth": 0,
             "ticks": ""
            },
            "colorscale": [
             [
              0,
              "#0d0887"
             ],
             [
              0.1111111111111111,
              "#46039f"
             ],
             [
              0.2222222222222222,
              "#7201a8"
             ],
             [
              0.3333333333333333,
              "#9c179e"
             ],
             [
              0.4444444444444444,
              "#bd3786"
             ],
             [
              0.5555555555555556,
              "#d8576b"
             ],
             [
              0.6666666666666666,
              "#ed7953"
             ],
             [
              0.7777777777777778,
              "#fb9f3a"
             ],
             [
              0.8888888888888888,
              "#fdca26"
             ],
             [
              1,
              "#f0f921"
             ]
            ],
            "type": "heatmapgl"
           }
          ],
          "histogram": [
           {
            "marker": {
             "pattern": {
              "fillmode": "overlay",
              "size": 10,
              "solidity": 0.2
             }
            },
            "type": "histogram"
           }
          ],
          "histogram2d": [
           {
            "colorbar": {
             "outlinewidth": 0,
             "ticks": ""
            },
            "colorscale": [
             [
              0,
              "#0d0887"
             ],
             [
              0.1111111111111111,
              "#46039f"
             ],
             [
              0.2222222222222222,
              "#7201a8"
             ],
             [
              0.3333333333333333,
              "#9c179e"
             ],
             [
              0.4444444444444444,
              "#bd3786"
             ],
             [
              0.5555555555555556,
              "#d8576b"
             ],
             [
              0.6666666666666666,
              "#ed7953"
             ],
             [
              0.7777777777777778,
              "#fb9f3a"
             ],
             [
              0.8888888888888888,
              "#fdca26"
             ],
             [
              1,
              "#f0f921"
             ]
            ],
            "type": "histogram2d"
           }
          ],
          "histogram2dcontour": [
           {
            "colorbar": {
             "outlinewidth": 0,
             "ticks": ""
            },
            "colorscale": [
             [
              0,
              "#0d0887"
             ],
             [
              0.1111111111111111,
              "#46039f"
             ],
             [
              0.2222222222222222,
              "#7201a8"
             ],
             [
              0.3333333333333333,
              "#9c179e"
             ],
             [
              0.4444444444444444,
              "#bd3786"
             ],
             [
              0.5555555555555556,
              "#d8576b"
             ],
             [
              0.6666666666666666,
              "#ed7953"
             ],
             [
              0.7777777777777778,
              "#fb9f3a"
             ],
             [
              0.8888888888888888,
              "#fdca26"
             ],
             [
              1,
              "#f0f921"
             ]
            ],
            "type": "histogram2dcontour"
           }
          ],
          "mesh3d": [
           {
            "colorbar": {
             "outlinewidth": 0,
             "ticks": ""
            },
            "type": "mesh3d"
           }
          ],
          "parcoords": [
           {
            "line": {
             "colorbar": {
              "outlinewidth": 0,
              "ticks": ""
             }
            },
            "type": "parcoords"
           }
          ],
          "pie": [
           {
            "automargin": true,
            "type": "pie"
           }
          ],
          "scatter": [
           {
            "fillpattern": {
             "fillmode": "overlay",
             "size": 10,
             "solidity": 0.2
            },
            "type": "scatter"
           }
          ],
          "scatter3d": [
           {
            "line": {
             "colorbar": {
              "outlinewidth": 0,
              "ticks": ""
             }
            },
            "marker": {
             "colorbar": {
              "outlinewidth": 0,
              "ticks": ""
             }
            },
            "type": "scatter3d"
           }
          ],
          "scattercarpet": [
           {
            "marker": {
             "colorbar": {
              "outlinewidth": 0,
              "ticks": ""
             }
            },
            "type": "scattercarpet"
           }
          ],
          "scattergeo": [
           {
            "marker": {
             "colorbar": {
              "outlinewidth": 0,
              "ticks": ""
             }
            },
            "type": "scattergeo"
           }
          ],
          "scattergl": [
           {
            "marker": {
             "colorbar": {
              "outlinewidth": 0,
              "ticks": ""
             }
            },
            "type": "scattergl"
           }
          ],
          "scattermapbox": [
           {
            "marker": {
             "colorbar": {
              "outlinewidth": 0,
              "ticks": ""
             }
            },
            "type": "scattermapbox"
           }
          ],
          "scatterpolar": [
           {
            "marker": {
             "colorbar": {
              "outlinewidth": 0,
              "ticks": ""
             }
            },
            "type": "scatterpolar"
           }
          ],
          "scatterpolargl": [
           {
            "marker": {
             "colorbar": {
              "outlinewidth": 0,
              "ticks": ""
             }
            },
            "type": "scatterpolargl"
           }
          ],
          "scatterternary": [
           {
            "marker": {
             "colorbar": {
              "outlinewidth": 0,
              "ticks": ""
             }
            },
            "type": "scatterternary"
           }
          ],
          "surface": [
           {
            "colorbar": {
             "outlinewidth": 0,
             "ticks": ""
            },
            "colorscale": [
             [
              0,
              "#0d0887"
             ],
             [
              0.1111111111111111,
              "#46039f"
             ],
             [
              0.2222222222222222,
              "#7201a8"
             ],
             [
              0.3333333333333333,
              "#9c179e"
             ],
             [
              0.4444444444444444,
              "#bd3786"
             ],
             [
              0.5555555555555556,
              "#d8576b"
             ],
             [
              0.6666666666666666,
              "#ed7953"
             ],
             [
              0.7777777777777778,
              "#fb9f3a"
             ],
             [
              0.8888888888888888,
              "#fdca26"
             ],
             [
              1,
              "#f0f921"
             ]
            ],
            "type": "surface"
           }
          ],
          "table": [
           {
            "cells": {
             "fill": {
              "color": "#EBF0F8"
             },
             "line": {
              "color": "white"
             }
            },
            "header": {
             "fill": {
              "color": "#C8D4E3"
             },
             "line": {
              "color": "white"
             }
            },
            "type": "table"
           }
          ]
         },
         "layout": {
          "annotationdefaults": {
           "arrowcolor": "#2a3f5f",
           "arrowhead": 0,
           "arrowwidth": 1
          },
          "autotypenumbers": "strict",
          "coloraxis": {
           "colorbar": {
            "outlinewidth": 0,
            "ticks": ""
           }
          },
          "colorscale": {
           "diverging": [
            [
             0,
             "#8e0152"
            ],
            [
             0.1,
             "#c51b7d"
            ],
            [
             0.2,
             "#de77ae"
            ],
            [
             0.3,
             "#f1b6da"
            ],
            [
             0.4,
             "#fde0ef"
            ],
            [
             0.5,
             "#f7f7f7"
            ],
            [
             0.6,
             "#e6f5d0"
            ],
            [
             0.7,
             "#b8e186"
            ],
            [
             0.8,
             "#7fbc41"
            ],
            [
             0.9,
             "#4d9221"
            ],
            [
             1,
             "#276419"
            ]
           ],
           "sequential": [
            [
             0,
             "#0d0887"
            ],
            [
             0.1111111111111111,
             "#46039f"
            ],
            [
             0.2222222222222222,
             "#7201a8"
            ],
            [
             0.3333333333333333,
             "#9c179e"
            ],
            [
             0.4444444444444444,
             "#bd3786"
            ],
            [
             0.5555555555555556,
             "#d8576b"
            ],
            [
             0.6666666666666666,
             "#ed7953"
            ],
            [
             0.7777777777777778,
             "#fb9f3a"
            ],
            [
             0.8888888888888888,
             "#fdca26"
            ],
            [
             1,
             "#f0f921"
            ]
           ],
           "sequentialminus": [
            [
             0,
             "#0d0887"
            ],
            [
             0.1111111111111111,
             "#46039f"
            ],
            [
             0.2222222222222222,
             "#7201a8"
            ],
            [
             0.3333333333333333,
             "#9c179e"
            ],
            [
             0.4444444444444444,
             "#bd3786"
            ],
            [
             0.5555555555555556,
             "#d8576b"
            ],
            [
             0.6666666666666666,
             "#ed7953"
            ],
            [
             0.7777777777777778,
             "#fb9f3a"
            ],
            [
             0.8888888888888888,
             "#fdca26"
            ],
            [
             1,
             "#f0f921"
            ]
           ]
          },
          "colorway": [
           "#636efa",
           "#EF553B",
           "#00cc96",
           "#ab63fa",
           "#FFA15A",
           "#19d3f3",
           "#FF6692",
           "#B6E880",
           "#FF97FF",
           "#FECB52"
          ],
          "font": {
           "color": "#2a3f5f"
          },
          "geo": {
           "bgcolor": "white",
           "lakecolor": "white",
           "landcolor": "#E5ECF6",
           "showlakes": true,
           "showland": true,
           "subunitcolor": "white"
          },
          "hoverlabel": {
           "align": "left"
          },
          "hovermode": "closest",
          "mapbox": {
           "style": "light"
          },
          "paper_bgcolor": "white",
          "plot_bgcolor": "#E5ECF6",
          "polar": {
           "angularaxis": {
            "gridcolor": "white",
            "linecolor": "white",
            "ticks": ""
           },
           "bgcolor": "#E5ECF6",
           "radialaxis": {
            "gridcolor": "white",
            "linecolor": "white",
            "ticks": ""
           }
          },
          "scene": {
           "xaxis": {
            "backgroundcolor": "#E5ECF6",
            "gridcolor": "white",
            "gridwidth": 2,
            "linecolor": "white",
            "showbackground": true,
            "ticks": "",
            "zerolinecolor": "white"
           },
           "yaxis": {
            "backgroundcolor": "#E5ECF6",
            "gridcolor": "white",
            "gridwidth": 2,
            "linecolor": "white",
            "showbackground": true,
            "ticks": "",
            "zerolinecolor": "white"
           },
           "zaxis": {
            "backgroundcolor": "#E5ECF6",
            "gridcolor": "white",
            "gridwidth": 2,
            "linecolor": "white",
            "showbackground": true,
            "ticks": "",
            "zerolinecolor": "white"
           }
          },
          "shapedefaults": {
           "line": {
            "color": "#2a3f5f"
           }
          },
          "ternary": {
           "aaxis": {
            "gridcolor": "white",
            "linecolor": "white",
            "ticks": ""
           },
           "baxis": {
            "gridcolor": "white",
            "linecolor": "white",
            "ticks": ""
           },
           "bgcolor": "#E5ECF6",
           "caxis": {
            "gridcolor": "white",
            "linecolor": "white",
            "ticks": ""
           }
          },
          "title": {
           "x": 0.05
          },
          "xaxis": {
           "automargin": true,
           "gridcolor": "white",
           "linecolor": "white",
           "ticks": "",
           "title": {
            "standoff": 15
           },
           "zerolinecolor": "white",
           "zerolinewidth": 2
          },
          "yaxis": {
           "automargin": true,
           "gridcolor": "white",
           "linecolor": "white",
           "ticks": "",
           "title": {
            "standoff": 15
           },
           "zerolinecolor": "white",
           "zerolinewidth": 2
          }
         }
        },
        "title": {
         "text": "The Highest Rated Restaurants"
        },
        "xaxis": {
         "anchor": "y",
         "categoryorder": "total descending",
         "domain": [
          0,
          1
         ],
         "title": {
          "text": "name"
         }
        },
        "yaxis": {
         "anchor": "x",
         "domain": [
          0,
          1
         ],
         "range": [
          4,
          4.9
         ],
         "title": {
          "text": "customer_stars"
         }
        }
       }
      },
      "text/html": [
       "<div>                            <div id=\"6476a91c-d9df-4e37-8fe8-7d0b80c6ce70\" class=\"plotly-graph-div\" style=\"height:525px; width:100%;\"></div>            <script type=\"text/javascript\">                require([\"plotly\"], function(Plotly) {                    window.PLOTLYENV=window.PLOTLYENV || {};                                    if (document.getElementById(\"6476a91c-d9df-4e37-8fe8-7d0b80c6ce70\")) {                    Plotly.newPlot(                        \"6476a91c-d9df-4e37-8fe8-7d0b80c6ce70\",                        [{\"alignmentgroup\":\"True\",\"hovertemplate\":\"state_=TX<br>name=%{x}<br>customer_stars=%{y}<extra></extra>\",\"legendgroup\":\"TX\",\"marker\":{\"color\":\"#636efa\",\"pattern\":{\"shape\":\"\"}},\"name\":\"TX\",\"offsetgroup\":\"TX\",\"orientation\":\"v\",\"showlegend\":true,\"textposition\":\"auto\",\"x\":[\"Jewboy Burgers\",\"1618 Asian Fusion\",\"Santorini Cafe\",\"Bird Bird Biscuit\"],\"xaxis\":\"x\",\"y\":[4.85632183908046,4.745864661654135,4.701570680628272,4.660839160839161],\"yaxis\":\"y\",\"type\":\"bar\"},{\"alignmentgroup\":\"True\",\"hovertemplate\":\"state_=GA<br>name=%{x}<br>customer_stars=%{y}<extra></extra>\",\"legendgroup\":\"GA\",\"marker\":{\"color\":\"#EF553B\",\"pattern\":{\"shape\":\"\"}},\"name\":\"GA\",\"offsetgroup\":\"GA\",\"orientation\":\"v\",\"showlegend\":true,\"textposition\":\"auto\",\"x\":[\"Aviva by Kameel\"],\"xaxis\":\"x\",\"y\":[4.824281150159744],\"yaxis\":\"y\",\"type\":\"bar\"},{\"alignmentgroup\":\"True\",\"hovertemplate\":\"state_=MA<br>name=%{x}<br>customer_stars=%{y}<extra></extra>\",\"legendgroup\":\"MA\",\"marker\":{\"color\":\"#00cc96\",\"pattern\":{\"shape\":\"\"}},\"name\":\"MA\",\"offsetgroup\":\"MA\",\"orientation\":\"v\",\"showlegend\":true,\"textposition\":\"auto\",\"x\":[\"Ciao! Pizza & Pasta\"],\"xaxis\":\"x\",\"y\":[4.816245006657789],\"yaxis\":\"y\",\"type\":\"bar\"},{\"alignmentgroup\":\"True\",\"hovertemplate\":\"state_=OR<br>name=%{x}<br>customer_stars=%{y}<extra></extra>\",\"legendgroup\":\"OR\",\"marker\":{\"color\":\"#ab63fa\",\"pattern\":{\"shape\":\"\"}},\"name\":\"OR\",\"offsetgroup\":\"OR\",\"orientation\":\"v\",\"showlegend\":true,\"textposition\":\"auto\",\"x\":[\"T\\u014dv\",\"Swiss Hibiscus\",\"Powell's City of Books\",\"Ovation Coffee & Tea\",\"Pip's Original Doughnuts & Chai\"],\"xaxis\":\"x\",\"y\":[4.800796812749004,4.786915887850467,4.770260909720619,4.762982689747004,4.660228616476153],\"yaxis\":\"y\",\"type\":\"bar\"},{\"alignmentgroup\":\"True\",\"hovertemplate\":\"state_=WA<br>name=%{x}<br>customer_stars=%{y}<extra></extra>\",\"legendgroup\":\"WA\",\"marker\":{\"color\":\"#FFA15A\",\"pattern\":{\"shape\":\"\"}},\"name\":\"WA\",\"offsetgroup\":\"WA\",\"orientation\":\"v\",\"showlegend\":true,\"textposition\":\"auto\",\"x\":[\"Thai Wok Kitchen\"],\"xaxis\":\"x\",\"y\":[4.713798977853492],\"yaxis\":\"y\",\"type\":\"bar\"}],                        {\"template\":{\"data\":{\"histogram2dcontour\":[{\"type\":\"histogram2dcontour\",\"colorbar\":{\"outlinewidth\":0,\"ticks\":\"\"},\"colorscale\":[[0.0,\"#0d0887\"],[0.1111111111111111,\"#46039f\"],[0.2222222222222222,\"#7201a8\"],[0.3333333333333333,\"#9c179e\"],[0.4444444444444444,\"#bd3786\"],[0.5555555555555556,\"#d8576b\"],[0.6666666666666666,\"#ed7953\"],[0.7777777777777778,\"#fb9f3a\"],[0.8888888888888888,\"#fdca26\"],[1.0,\"#f0f921\"]]}],\"choropleth\":[{\"type\":\"choropleth\",\"colorbar\":{\"outlinewidth\":0,\"ticks\":\"\"}}],\"histogram2d\":[{\"type\":\"histogram2d\",\"colorbar\":{\"outlinewidth\":0,\"ticks\":\"\"},\"colorscale\":[[0.0,\"#0d0887\"],[0.1111111111111111,\"#46039f\"],[0.2222222222222222,\"#7201a8\"],[0.3333333333333333,\"#9c179e\"],[0.4444444444444444,\"#bd3786\"],[0.5555555555555556,\"#d8576b\"],[0.6666666666666666,\"#ed7953\"],[0.7777777777777778,\"#fb9f3a\"],[0.8888888888888888,\"#fdca26\"],[1.0,\"#f0f921\"]]}],\"heatmap\":[{\"type\":\"heatmap\",\"colorbar\":{\"outlinewidth\":0,\"ticks\":\"\"},\"colorscale\":[[0.0,\"#0d0887\"],[0.1111111111111111,\"#46039f\"],[0.2222222222222222,\"#7201a8\"],[0.3333333333333333,\"#9c179e\"],[0.4444444444444444,\"#bd3786\"],[0.5555555555555556,\"#d8576b\"],[0.6666666666666666,\"#ed7953\"],[0.7777777777777778,\"#fb9f3a\"],[0.8888888888888888,\"#fdca26\"],[1.0,\"#f0f921\"]]}],\"heatmapgl\":[{\"type\":\"heatmapgl\",\"colorbar\":{\"outlinewidth\":0,\"ticks\":\"\"},\"colorscale\":[[0.0,\"#0d0887\"],[0.1111111111111111,\"#46039f\"],[0.2222222222222222,\"#7201a8\"],[0.3333333333333333,\"#9c179e\"],[0.4444444444444444,\"#bd3786\"],[0.5555555555555556,\"#d8576b\"],[0.6666666666666666,\"#ed7953\"],[0.7777777777777778,\"#fb9f3a\"],[0.8888888888888888,\"#fdca26\"],[1.0,\"#f0f921\"]]}],\"contourcarpet\":[{\"type\":\"contourcarpet\",\"colorbar\":{\"outlinewidth\":0,\"ticks\":\"\"}}],\"contour\":[{\"type\":\"contour\",\"colorbar\":{\"outlinewidth\":0,\"ticks\":\"\"},\"colorscale\":[[0.0,\"#0d0887\"],[0.1111111111111111,\"#46039f\"],[0.2222222222222222,\"#7201a8\"],[0.3333333333333333,\"#9c179e\"],[0.4444444444444444,\"#bd3786\"],[0.5555555555555556,\"#d8576b\"],[0.6666666666666666,\"#ed7953\"],[0.7777777777777778,\"#fb9f3a\"],[0.8888888888888888,\"#fdca26\"],[1.0,\"#f0f921\"]]}],\"surface\":[{\"type\":\"surface\",\"colorbar\":{\"outlinewidth\":0,\"ticks\":\"\"},\"colorscale\":[[0.0,\"#0d0887\"],[0.1111111111111111,\"#46039f\"],[0.2222222222222222,\"#7201a8\"],[0.3333333333333333,\"#9c179e\"],[0.4444444444444444,\"#bd3786\"],[0.5555555555555556,\"#d8576b\"],[0.6666666666666666,\"#ed7953\"],[0.7777777777777778,\"#fb9f3a\"],[0.8888888888888888,\"#fdca26\"],[1.0,\"#f0f921\"]]}],\"mesh3d\":[{\"type\":\"mesh3d\",\"colorbar\":{\"outlinewidth\":0,\"ticks\":\"\"}}],\"scatter\":[{\"fillpattern\":{\"fillmode\":\"overlay\",\"size\":10,\"solidity\":0.2},\"type\":\"scatter\"}],\"parcoords\":[{\"type\":\"parcoords\",\"line\":{\"colorbar\":{\"outlinewidth\":0,\"ticks\":\"\"}}}],\"scatterpolargl\":[{\"type\":\"scatterpolargl\",\"marker\":{\"colorbar\":{\"outlinewidth\":0,\"ticks\":\"\"}}}],\"bar\":[{\"error_x\":{\"color\":\"#2a3f5f\"},\"error_y\":{\"color\":\"#2a3f5f\"},\"marker\":{\"line\":{\"color\":\"#E5ECF6\",\"width\":0.5},\"pattern\":{\"fillmode\":\"overlay\",\"size\":10,\"solidity\":0.2}},\"type\":\"bar\"}],\"scattergeo\":[{\"type\":\"scattergeo\",\"marker\":{\"colorbar\":{\"outlinewidth\":0,\"ticks\":\"\"}}}],\"scatterpolar\":[{\"type\":\"scatterpolar\",\"marker\":{\"colorbar\":{\"outlinewidth\":0,\"ticks\":\"\"}}}],\"histogram\":[{\"marker\":{\"pattern\":{\"fillmode\":\"overlay\",\"size\":10,\"solidity\":0.2}},\"type\":\"histogram\"}],\"scattergl\":[{\"type\":\"scattergl\",\"marker\":{\"colorbar\":{\"outlinewidth\":0,\"ticks\":\"\"}}}],\"scatter3d\":[{\"type\":\"scatter3d\",\"line\":{\"colorbar\":{\"outlinewidth\":0,\"ticks\":\"\"}},\"marker\":{\"colorbar\":{\"outlinewidth\":0,\"ticks\":\"\"}}}],\"scattermapbox\":[{\"type\":\"scattermapbox\",\"marker\":{\"colorbar\":{\"outlinewidth\":0,\"ticks\":\"\"}}}],\"scatterternary\":[{\"type\":\"scatterternary\",\"marker\":{\"colorbar\":{\"outlinewidth\":0,\"ticks\":\"\"}}}],\"scattercarpet\":[{\"type\":\"scattercarpet\",\"marker\":{\"colorbar\":{\"outlinewidth\":0,\"ticks\":\"\"}}}],\"carpet\":[{\"aaxis\":{\"endlinecolor\":\"#2a3f5f\",\"gridcolor\":\"white\",\"linecolor\":\"white\",\"minorgridcolor\":\"white\",\"startlinecolor\":\"#2a3f5f\"},\"baxis\":{\"endlinecolor\":\"#2a3f5f\",\"gridcolor\":\"white\",\"linecolor\":\"white\",\"minorgridcolor\":\"white\",\"startlinecolor\":\"#2a3f5f\"},\"type\":\"carpet\"}],\"table\":[{\"cells\":{\"fill\":{\"color\":\"#EBF0F8\"},\"line\":{\"color\":\"white\"}},\"header\":{\"fill\":{\"color\":\"#C8D4E3\"},\"line\":{\"color\":\"white\"}},\"type\":\"table\"}],\"barpolar\":[{\"marker\":{\"line\":{\"color\":\"#E5ECF6\",\"width\":0.5},\"pattern\":{\"fillmode\":\"overlay\",\"size\":10,\"solidity\":0.2}},\"type\":\"barpolar\"}],\"pie\":[{\"automargin\":true,\"type\":\"pie\"}]},\"layout\":{\"autotypenumbers\":\"strict\",\"colorway\":[\"#636efa\",\"#EF553B\",\"#00cc96\",\"#ab63fa\",\"#FFA15A\",\"#19d3f3\",\"#FF6692\",\"#B6E880\",\"#FF97FF\",\"#FECB52\"],\"font\":{\"color\":\"#2a3f5f\"},\"hovermode\":\"closest\",\"hoverlabel\":{\"align\":\"left\"},\"paper_bgcolor\":\"white\",\"plot_bgcolor\":\"#E5ECF6\",\"polar\":{\"bgcolor\":\"#E5ECF6\",\"angularaxis\":{\"gridcolor\":\"white\",\"linecolor\":\"white\",\"ticks\":\"\"},\"radialaxis\":{\"gridcolor\":\"white\",\"linecolor\":\"white\",\"ticks\":\"\"}},\"ternary\":{\"bgcolor\":\"#E5ECF6\",\"aaxis\":{\"gridcolor\":\"white\",\"linecolor\":\"white\",\"ticks\":\"\"},\"baxis\":{\"gridcolor\":\"white\",\"linecolor\":\"white\",\"ticks\":\"\"},\"caxis\":{\"gridcolor\":\"white\",\"linecolor\":\"white\",\"ticks\":\"\"}},\"coloraxis\":{\"colorbar\":{\"outlinewidth\":0,\"ticks\":\"\"}},\"colorscale\":{\"sequential\":[[0.0,\"#0d0887\"],[0.1111111111111111,\"#46039f\"],[0.2222222222222222,\"#7201a8\"],[0.3333333333333333,\"#9c179e\"],[0.4444444444444444,\"#bd3786\"],[0.5555555555555556,\"#d8576b\"],[0.6666666666666666,\"#ed7953\"],[0.7777777777777778,\"#fb9f3a\"],[0.8888888888888888,\"#fdca26\"],[1.0,\"#f0f921\"]],\"sequentialminus\":[[0.0,\"#0d0887\"],[0.1111111111111111,\"#46039f\"],[0.2222222222222222,\"#7201a8\"],[0.3333333333333333,\"#9c179e\"],[0.4444444444444444,\"#bd3786\"],[0.5555555555555556,\"#d8576b\"],[0.6666666666666666,\"#ed7953\"],[0.7777777777777778,\"#fb9f3a\"],[0.8888888888888888,\"#fdca26\"],[1.0,\"#f0f921\"]],\"diverging\":[[0,\"#8e0152\"],[0.1,\"#c51b7d\"],[0.2,\"#de77ae\"],[0.3,\"#f1b6da\"],[0.4,\"#fde0ef\"],[0.5,\"#f7f7f7\"],[0.6,\"#e6f5d0\"],[0.7,\"#b8e186\"],[0.8,\"#7fbc41\"],[0.9,\"#4d9221\"],[1,\"#276419\"]]},\"xaxis\":{\"gridcolor\":\"white\",\"linecolor\":\"white\",\"ticks\":\"\",\"title\":{\"standoff\":15},\"zerolinecolor\":\"white\",\"automargin\":true,\"zerolinewidth\":2},\"yaxis\":{\"gridcolor\":\"white\",\"linecolor\":\"white\",\"ticks\":\"\",\"title\":{\"standoff\":15},\"zerolinecolor\":\"white\",\"automargin\":true,\"zerolinewidth\":2},\"scene\":{\"xaxis\":{\"backgroundcolor\":\"#E5ECF6\",\"gridcolor\":\"white\",\"linecolor\":\"white\",\"showbackground\":true,\"ticks\":\"\",\"zerolinecolor\":\"white\",\"gridwidth\":2},\"yaxis\":{\"backgroundcolor\":\"#E5ECF6\",\"gridcolor\":\"white\",\"linecolor\":\"white\",\"showbackground\":true,\"ticks\":\"\",\"zerolinecolor\":\"white\",\"gridwidth\":2},\"zaxis\":{\"backgroundcolor\":\"#E5ECF6\",\"gridcolor\":\"white\",\"linecolor\":\"white\",\"showbackground\":true,\"ticks\":\"\",\"zerolinecolor\":\"white\",\"gridwidth\":2}},\"shapedefaults\":{\"line\":{\"color\":\"#2a3f5f\"}},\"annotationdefaults\":{\"arrowcolor\":\"#2a3f5f\",\"arrowhead\":0,\"arrowwidth\":1},\"geo\":{\"bgcolor\":\"white\",\"landcolor\":\"#E5ECF6\",\"subunitcolor\":\"white\",\"showland\":true,\"showlakes\":true,\"lakecolor\":\"white\"},\"title\":{\"x\":0.05},\"mapbox\":{\"style\":\"light\"}}},\"xaxis\":{\"anchor\":\"y\",\"domain\":[0.0,1.0],\"title\":{\"text\":\"name\"},\"categoryorder\":\"total descending\"},\"yaxis\":{\"anchor\":\"x\",\"domain\":[0.0,1.0],\"title\":{\"text\":\"customer_stars\"},\"range\":[4,4.9]},\"legend\":{\"title\":{\"text\":\"state_\"},\"tracegroupgap\":0},\"title\":{\"text\":\"The Highest Rated Restaurants\"},\"barmode\":\"stack\"},                        {\"responsive\": true}                    ).then(function(){\n",
       "                            \n",
       "var gd = document.getElementById('6476a91c-d9df-4e37-8fe8-7d0b80c6ce70');\n",
       "var x = new MutationObserver(function (mutations, observer) {{\n",
       "        var display = window.getComputedStyle(gd).display;\n",
       "        if (!display || display === 'none') {{\n",
       "            console.log([gd, 'removed!']);\n",
       "            Plotly.purge(gd);\n",
       "            observer.disconnect();\n",
       "        }}\n",
       "}});\n",
       "\n",
       "// Listen for the removal of the full notebook cells\n",
       "var notebookContainer = gd.closest('#notebook-container');\n",
       "if (notebookContainer) {{\n",
       "    x.observe(notebookContainer, {childList: true});\n",
       "}}\n",
       "\n",
       "// Listen for the clearing of the current output cell\n",
       "var outputEl = gd.closest('.output');\n",
       "if (outputEl) {{\n",
       "    x.observe(outputEl, {childList: true});\n",
       "}}\n",
       "\n",
       "                        })                };                });            </script>        </div>"
      ]
     },
     "metadata": {},
     "output_type": "display_data"
    }
   ],
   "source": [
    "fig = px.bar(most_popular, x='name', y='customer_stars', color = 'state_', title = \"The Highest Rated Restaurants\")\n",
    "fig.update_layout(barmode='stack', xaxis={'categoryorder':'total descending'})\n",
    "fig.update_layout(yaxis=dict(range=[4,4.9]))\n",
    "fig.show()"
   ]
  },
  {
   "cell_type": "markdown",
   "id": "d0326449",
   "metadata": {},
   "source": [
    "# Least popular restaurants with atleast 500 reviews"
   ]
  },
  {
   "cell_type": "code",
   "execution_count": 120,
   "id": "77f03f28",
   "metadata": {},
   "outputs": [
    {
     "data": {
      "application/vnd.plotly.v1+json": {
       "config": {
        "plotlyServerURL": "https://plot.ly"
       },
       "data": [
        {
         "alignmentgroup": "True",
         "hovertemplate": "state_=FL<br>name=%{x}<br>customer_stars=%{y}<extra></extra>",
         "legendgroup": "FL",
         "marker": {
          "color": "#636efa",
          "pattern": {
           "shape": ""
          }
         },
         "name": "FL",
         "offsetgroup": "FL",
         "orientation": "v",
         "showlegend": true,
         "textposition": "auto",
         "type": "bar",
         "x": [
          "Westgate Lakes Resort and Spa"
         ],
         "xaxis": "x",
         "y": [
          1.9858934169278997
         ],
         "yaxis": "y"
        },
        {
         "alignmentgroup": "True",
         "hovertemplate": "state_=GA<br>name=%{x}<br>customer_stars=%{y}<extra></extra>",
         "legendgroup": "GA",
         "marker": {
          "color": "#EF553B",
          "pattern": {
           "shape": ""
          }
         },
         "name": "GA",
         "offsetgroup": "GA",
         "orientation": "v",
         "showlegend": true,
         "textposition": "auto",
         "type": "bar",
         "x": [
          "Cirque Daiquiri Bar and Grill",
          "Taco Mac Metropolis",
          "Sugar Factory"
         ],
         "xaxis": "x",
         "y": [
          2.477777777777778,
          2.6835443037974684,
          2.7476635514018692
         ],
         "yaxis": "y"
        },
        {
         "alignmentgroup": "True",
         "hovertemplate": "state_=TX<br>name=%{x}<br>customer_stars=%{y}<extra></extra>",
         "legendgroup": "TX",
         "marker": {
          "color": "#00cc96",
          "pattern": {
           "shape": ""
          }
         },
         "name": "TX",
         "offsetgroup": "TX",
         "orientation": "v",
         "showlegend": true,
         "textposition": "auto",
         "type": "bar",
         "x": [
          "Abel's On the Lake",
          "The OASIS on Lake Travis"
         ],
         "xaxis": "x",
         "y": [
          2.508361204013378,
          2.6237393328161365
         ],
         "yaxis": "y"
        },
        {
         "alignmentgroup": "True",
         "hovertemplate": "state_=MA<br>name=%{x}<br>customer_stars=%{y}<extra></extra>",
         "legendgroup": "MA",
         "marker": {
          "color": "#ab63fa",
          "pattern": {
           "shape": ""
          }
         },
         "name": "MA",
         "offsetgroup": "MA",
         "orientation": "v",
         "showlegend": true,
         "textposition": "auto",
         "type": "bar",
         "x": [
          "House of Blues Boston- Music Venue",
          "Boston Park Plaza",
          "Mija Cantina & Tequila Bar",
          "Hong Kong",
          "Tony C's Sports Bar & Grill"
         ],
         "xaxis": "x",
         "y": [
          2.549608355091384,
          2.55834829443447,
          2.5662020905923346,
          2.781783681214421,
          2.8126009693053313
         ],
         "yaxis": "y"
        },
        {
         "alignmentgroup": "True",
         "hovertemplate": "state_=OR<br>name=%{x}<br>customer_stars=%{y}<extra></extra>",
         "legendgroup": "OR",
         "marker": {
          "color": "#FFA15A",
          "pattern": {
           "shape": ""
          }
         },
         "name": "OR",
         "offsetgroup": "OR",
         "orientation": "v",
         "showlegend": true,
         "textposition": "auto",
         "type": "bar",
         "x": [
          "Benihana"
         ],
         "xaxis": "x",
         "y": [
          2.720319099014547
         ],
         "yaxis": "y"
        }
       ],
       "layout": {
        "barmode": "stack",
        "legend": {
         "title": {
          "text": "state_"
         },
         "tracegroupgap": 0
        },
        "template": {
         "data": {
          "bar": [
           {
            "error_x": {
             "color": "#2a3f5f"
            },
            "error_y": {
             "color": "#2a3f5f"
            },
            "marker": {
             "line": {
              "color": "#E5ECF6",
              "width": 0.5
             },
             "pattern": {
              "fillmode": "overlay",
              "size": 10,
              "solidity": 0.2
             }
            },
            "type": "bar"
           }
          ],
          "barpolar": [
           {
            "marker": {
             "line": {
              "color": "#E5ECF6",
              "width": 0.5
             },
             "pattern": {
              "fillmode": "overlay",
              "size": 10,
              "solidity": 0.2
             }
            },
            "type": "barpolar"
           }
          ],
          "carpet": [
           {
            "aaxis": {
             "endlinecolor": "#2a3f5f",
             "gridcolor": "white",
             "linecolor": "white",
             "minorgridcolor": "white",
             "startlinecolor": "#2a3f5f"
            },
            "baxis": {
             "endlinecolor": "#2a3f5f",
             "gridcolor": "white",
             "linecolor": "white",
             "minorgridcolor": "white",
             "startlinecolor": "#2a3f5f"
            },
            "type": "carpet"
           }
          ],
          "choropleth": [
           {
            "colorbar": {
             "outlinewidth": 0,
             "ticks": ""
            },
            "type": "choropleth"
           }
          ],
          "contour": [
           {
            "colorbar": {
             "outlinewidth": 0,
             "ticks": ""
            },
            "colorscale": [
             [
              0,
              "#0d0887"
             ],
             [
              0.1111111111111111,
              "#46039f"
             ],
             [
              0.2222222222222222,
              "#7201a8"
             ],
             [
              0.3333333333333333,
              "#9c179e"
             ],
             [
              0.4444444444444444,
              "#bd3786"
             ],
             [
              0.5555555555555556,
              "#d8576b"
             ],
             [
              0.6666666666666666,
              "#ed7953"
             ],
             [
              0.7777777777777778,
              "#fb9f3a"
             ],
             [
              0.8888888888888888,
              "#fdca26"
             ],
             [
              1,
              "#f0f921"
             ]
            ],
            "type": "contour"
           }
          ],
          "contourcarpet": [
           {
            "colorbar": {
             "outlinewidth": 0,
             "ticks": ""
            },
            "type": "contourcarpet"
           }
          ],
          "heatmap": [
           {
            "colorbar": {
             "outlinewidth": 0,
             "ticks": ""
            },
            "colorscale": [
             [
              0,
              "#0d0887"
             ],
             [
              0.1111111111111111,
              "#46039f"
             ],
             [
              0.2222222222222222,
              "#7201a8"
             ],
             [
              0.3333333333333333,
              "#9c179e"
             ],
             [
              0.4444444444444444,
              "#bd3786"
             ],
             [
              0.5555555555555556,
              "#d8576b"
             ],
             [
              0.6666666666666666,
              "#ed7953"
             ],
             [
              0.7777777777777778,
              "#fb9f3a"
             ],
             [
              0.8888888888888888,
              "#fdca26"
             ],
             [
              1,
              "#f0f921"
             ]
            ],
            "type": "heatmap"
           }
          ],
          "heatmapgl": [
           {
            "colorbar": {
             "outlinewidth": 0,
             "ticks": ""
            },
            "colorscale": [
             [
              0,
              "#0d0887"
             ],
             [
              0.1111111111111111,
              "#46039f"
             ],
             [
              0.2222222222222222,
              "#7201a8"
             ],
             [
              0.3333333333333333,
              "#9c179e"
             ],
             [
              0.4444444444444444,
              "#bd3786"
             ],
             [
              0.5555555555555556,
              "#d8576b"
             ],
             [
              0.6666666666666666,
              "#ed7953"
             ],
             [
              0.7777777777777778,
              "#fb9f3a"
             ],
             [
              0.8888888888888888,
              "#fdca26"
             ],
             [
              1,
              "#f0f921"
             ]
            ],
            "type": "heatmapgl"
           }
          ],
          "histogram": [
           {
            "marker": {
             "pattern": {
              "fillmode": "overlay",
              "size": 10,
              "solidity": 0.2
             }
            },
            "type": "histogram"
           }
          ],
          "histogram2d": [
           {
            "colorbar": {
             "outlinewidth": 0,
             "ticks": ""
            },
            "colorscale": [
             [
              0,
              "#0d0887"
             ],
             [
              0.1111111111111111,
              "#46039f"
             ],
             [
              0.2222222222222222,
              "#7201a8"
             ],
             [
              0.3333333333333333,
              "#9c179e"
             ],
             [
              0.4444444444444444,
              "#bd3786"
             ],
             [
              0.5555555555555556,
              "#d8576b"
             ],
             [
              0.6666666666666666,
              "#ed7953"
             ],
             [
              0.7777777777777778,
              "#fb9f3a"
             ],
             [
              0.8888888888888888,
              "#fdca26"
             ],
             [
              1,
              "#f0f921"
             ]
            ],
            "type": "histogram2d"
           }
          ],
          "histogram2dcontour": [
           {
            "colorbar": {
             "outlinewidth": 0,
             "ticks": ""
            },
            "colorscale": [
             [
              0,
              "#0d0887"
             ],
             [
              0.1111111111111111,
              "#46039f"
             ],
             [
              0.2222222222222222,
              "#7201a8"
             ],
             [
              0.3333333333333333,
              "#9c179e"
             ],
             [
              0.4444444444444444,
              "#bd3786"
             ],
             [
              0.5555555555555556,
              "#d8576b"
             ],
             [
              0.6666666666666666,
              "#ed7953"
             ],
             [
              0.7777777777777778,
              "#fb9f3a"
             ],
             [
              0.8888888888888888,
              "#fdca26"
             ],
             [
              1,
              "#f0f921"
             ]
            ],
            "type": "histogram2dcontour"
           }
          ],
          "mesh3d": [
           {
            "colorbar": {
             "outlinewidth": 0,
             "ticks": ""
            },
            "type": "mesh3d"
           }
          ],
          "parcoords": [
           {
            "line": {
             "colorbar": {
              "outlinewidth": 0,
              "ticks": ""
             }
            },
            "type": "parcoords"
           }
          ],
          "pie": [
           {
            "automargin": true,
            "type": "pie"
           }
          ],
          "scatter": [
           {
            "fillpattern": {
             "fillmode": "overlay",
             "size": 10,
             "solidity": 0.2
            },
            "type": "scatter"
           }
          ],
          "scatter3d": [
           {
            "line": {
             "colorbar": {
              "outlinewidth": 0,
              "ticks": ""
             }
            },
            "marker": {
             "colorbar": {
              "outlinewidth": 0,
              "ticks": ""
             }
            },
            "type": "scatter3d"
           }
          ],
          "scattercarpet": [
           {
            "marker": {
             "colorbar": {
              "outlinewidth": 0,
              "ticks": ""
             }
            },
            "type": "scattercarpet"
           }
          ],
          "scattergeo": [
           {
            "marker": {
             "colorbar": {
              "outlinewidth": 0,
              "ticks": ""
             }
            },
            "type": "scattergeo"
           }
          ],
          "scattergl": [
           {
            "marker": {
             "colorbar": {
              "outlinewidth": 0,
              "ticks": ""
             }
            },
            "type": "scattergl"
           }
          ],
          "scattermapbox": [
           {
            "marker": {
             "colorbar": {
              "outlinewidth": 0,
              "ticks": ""
             }
            },
            "type": "scattermapbox"
           }
          ],
          "scatterpolar": [
           {
            "marker": {
             "colorbar": {
              "outlinewidth": 0,
              "ticks": ""
             }
            },
            "type": "scatterpolar"
           }
          ],
          "scatterpolargl": [
           {
            "marker": {
             "colorbar": {
              "outlinewidth": 0,
              "ticks": ""
             }
            },
            "type": "scatterpolargl"
           }
          ],
          "scatterternary": [
           {
            "marker": {
             "colorbar": {
              "outlinewidth": 0,
              "ticks": ""
             }
            },
            "type": "scatterternary"
           }
          ],
          "surface": [
           {
            "colorbar": {
             "outlinewidth": 0,
             "ticks": ""
            },
            "colorscale": [
             [
              0,
              "#0d0887"
             ],
             [
              0.1111111111111111,
              "#46039f"
             ],
             [
              0.2222222222222222,
              "#7201a8"
             ],
             [
              0.3333333333333333,
              "#9c179e"
             ],
             [
              0.4444444444444444,
              "#bd3786"
             ],
             [
              0.5555555555555556,
              "#d8576b"
             ],
             [
              0.6666666666666666,
              "#ed7953"
             ],
             [
              0.7777777777777778,
              "#fb9f3a"
             ],
             [
              0.8888888888888888,
              "#fdca26"
             ],
             [
              1,
              "#f0f921"
             ]
            ],
            "type": "surface"
           }
          ],
          "table": [
           {
            "cells": {
             "fill": {
              "color": "#EBF0F8"
             },
             "line": {
              "color": "white"
             }
            },
            "header": {
             "fill": {
              "color": "#C8D4E3"
             },
             "line": {
              "color": "white"
             }
            },
            "type": "table"
           }
          ]
         },
         "layout": {
          "annotationdefaults": {
           "arrowcolor": "#2a3f5f",
           "arrowhead": 0,
           "arrowwidth": 1
          },
          "autotypenumbers": "strict",
          "coloraxis": {
           "colorbar": {
            "outlinewidth": 0,
            "ticks": ""
           }
          },
          "colorscale": {
           "diverging": [
            [
             0,
             "#8e0152"
            ],
            [
             0.1,
             "#c51b7d"
            ],
            [
             0.2,
             "#de77ae"
            ],
            [
             0.3,
             "#f1b6da"
            ],
            [
             0.4,
             "#fde0ef"
            ],
            [
             0.5,
             "#f7f7f7"
            ],
            [
             0.6,
             "#e6f5d0"
            ],
            [
             0.7,
             "#b8e186"
            ],
            [
             0.8,
             "#7fbc41"
            ],
            [
             0.9,
             "#4d9221"
            ],
            [
             1,
             "#276419"
            ]
           ],
           "sequential": [
            [
             0,
             "#0d0887"
            ],
            [
             0.1111111111111111,
             "#46039f"
            ],
            [
             0.2222222222222222,
             "#7201a8"
            ],
            [
             0.3333333333333333,
             "#9c179e"
            ],
            [
             0.4444444444444444,
             "#bd3786"
            ],
            [
             0.5555555555555556,
             "#d8576b"
            ],
            [
             0.6666666666666666,
             "#ed7953"
            ],
            [
             0.7777777777777778,
             "#fb9f3a"
            ],
            [
             0.8888888888888888,
             "#fdca26"
            ],
            [
             1,
             "#f0f921"
            ]
           ],
           "sequentialminus": [
            [
             0,
             "#0d0887"
            ],
            [
             0.1111111111111111,
             "#46039f"
            ],
            [
             0.2222222222222222,
             "#7201a8"
            ],
            [
             0.3333333333333333,
             "#9c179e"
            ],
            [
             0.4444444444444444,
             "#bd3786"
            ],
            [
             0.5555555555555556,
             "#d8576b"
            ],
            [
             0.6666666666666666,
             "#ed7953"
            ],
            [
             0.7777777777777778,
             "#fb9f3a"
            ],
            [
             0.8888888888888888,
             "#fdca26"
            ],
            [
             1,
             "#f0f921"
            ]
           ]
          },
          "colorway": [
           "#636efa",
           "#EF553B",
           "#00cc96",
           "#ab63fa",
           "#FFA15A",
           "#19d3f3",
           "#FF6692",
           "#B6E880",
           "#FF97FF",
           "#FECB52"
          ],
          "font": {
           "color": "#2a3f5f"
          },
          "geo": {
           "bgcolor": "white",
           "lakecolor": "white",
           "landcolor": "#E5ECF6",
           "showlakes": true,
           "showland": true,
           "subunitcolor": "white"
          },
          "hoverlabel": {
           "align": "left"
          },
          "hovermode": "closest",
          "mapbox": {
           "style": "light"
          },
          "paper_bgcolor": "white",
          "plot_bgcolor": "#E5ECF6",
          "polar": {
           "angularaxis": {
            "gridcolor": "white",
            "linecolor": "white",
            "ticks": ""
           },
           "bgcolor": "#E5ECF6",
           "radialaxis": {
            "gridcolor": "white",
            "linecolor": "white",
            "ticks": ""
           }
          },
          "scene": {
           "xaxis": {
            "backgroundcolor": "#E5ECF6",
            "gridcolor": "white",
            "gridwidth": 2,
            "linecolor": "white",
            "showbackground": true,
            "ticks": "",
            "zerolinecolor": "white"
           },
           "yaxis": {
            "backgroundcolor": "#E5ECF6",
            "gridcolor": "white",
            "gridwidth": 2,
            "linecolor": "white",
            "showbackground": true,
            "ticks": "",
            "zerolinecolor": "white"
           },
           "zaxis": {
            "backgroundcolor": "#E5ECF6",
            "gridcolor": "white",
            "gridwidth": 2,
            "linecolor": "white",
            "showbackground": true,
            "ticks": "",
            "zerolinecolor": "white"
           }
          },
          "shapedefaults": {
           "line": {
            "color": "#2a3f5f"
           }
          },
          "ternary": {
           "aaxis": {
            "gridcolor": "white",
            "linecolor": "white",
            "ticks": ""
           },
           "baxis": {
            "gridcolor": "white",
            "linecolor": "white",
            "ticks": ""
           },
           "bgcolor": "#E5ECF6",
           "caxis": {
            "gridcolor": "white",
            "linecolor": "white",
            "ticks": ""
           }
          },
          "title": {
           "x": 0.05
          },
          "xaxis": {
           "automargin": true,
           "gridcolor": "white",
           "linecolor": "white",
           "ticks": "",
           "title": {
            "standoff": 15
           },
           "zerolinecolor": "white",
           "zerolinewidth": 2
          },
          "yaxis": {
           "automargin": true,
           "gridcolor": "white",
           "linecolor": "white",
           "ticks": "",
           "title": {
            "standoff": 15
           },
           "zerolinecolor": "white",
           "zerolinewidth": 2
          }
         }
        },
        "title": {
         "text": "The Lowest Rated Restaurants"
        },
        "xaxis": {
         "anchor": "y",
         "categoryorder": "total descending",
         "domain": [
          0,
          1
         ],
         "title": {
          "text": "name"
         }
        },
        "yaxis": {
         "anchor": "x",
         "domain": [
          0,
          1
         ],
         "range": [
          1,
          3
         ],
         "title": {
          "text": "customer_stars"
         }
        }
       }
      },
      "text/html": [
       "<div>                            <div id=\"63467f9a-7293-4253-a04f-e39b02be6b7c\" class=\"plotly-graph-div\" style=\"height:525px; width:100%;\"></div>            <script type=\"text/javascript\">                require([\"plotly\"], function(Plotly) {                    window.PLOTLYENV=window.PLOTLYENV || {};                                    if (document.getElementById(\"63467f9a-7293-4253-a04f-e39b02be6b7c\")) {                    Plotly.newPlot(                        \"63467f9a-7293-4253-a04f-e39b02be6b7c\",                        [{\"alignmentgroup\":\"True\",\"hovertemplate\":\"state_=FL<br>name=%{x}<br>customer_stars=%{y}<extra></extra>\",\"legendgroup\":\"FL\",\"marker\":{\"color\":\"#636efa\",\"pattern\":{\"shape\":\"\"}},\"name\":\"FL\",\"offsetgroup\":\"FL\",\"orientation\":\"v\",\"showlegend\":true,\"textposition\":\"auto\",\"x\":[\"Westgate Lakes Resort and Spa\"],\"xaxis\":\"x\",\"y\":[1.9858934169278997],\"yaxis\":\"y\",\"type\":\"bar\"},{\"alignmentgroup\":\"True\",\"hovertemplate\":\"state_=GA<br>name=%{x}<br>customer_stars=%{y}<extra></extra>\",\"legendgroup\":\"GA\",\"marker\":{\"color\":\"#EF553B\",\"pattern\":{\"shape\":\"\"}},\"name\":\"GA\",\"offsetgroup\":\"GA\",\"orientation\":\"v\",\"showlegend\":true,\"textposition\":\"auto\",\"x\":[\"Cirque Daiquiri Bar and Grill\",\"Taco Mac Metropolis\",\"Sugar Factory\"],\"xaxis\":\"x\",\"y\":[2.477777777777778,2.6835443037974684,2.7476635514018692],\"yaxis\":\"y\",\"type\":\"bar\"},{\"alignmentgroup\":\"True\",\"hovertemplate\":\"state_=TX<br>name=%{x}<br>customer_stars=%{y}<extra></extra>\",\"legendgroup\":\"TX\",\"marker\":{\"color\":\"#00cc96\",\"pattern\":{\"shape\":\"\"}},\"name\":\"TX\",\"offsetgroup\":\"TX\",\"orientation\":\"v\",\"showlegend\":true,\"textposition\":\"auto\",\"x\":[\"Abel's On the Lake\",\"The OASIS on Lake Travis\"],\"xaxis\":\"x\",\"y\":[2.508361204013378,2.6237393328161365],\"yaxis\":\"y\",\"type\":\"bar\"},{\"alignmentgroup\":\"True\",\"hovertemplate\":\"state_=MA<br>name=%{x}<br>customer_stars=%{y}<extra></extra>\",\"legendgroup\":\"MA\",\"marker\":{\"color\":\"#ab63fa\",\"pattern\":{\"shape\":\"\"}},\"name\":\"MA\",\"offsetgroup\":\"MA\",\"orientation\":\"v\",\"showlegend\":true,\"textposition\":\"auto\",\"x\":[\"House of Blues Boston- Music Venue\",\"Boston Park Plaza\",\"Mija Cantina & Tequila Bar\",\"Hong Kong\",\"Tony C's Sports Bar & Grill\"],\"xaxis\":\"x\",\"y\":[2.549608355091384,2.55834829443447,2.5662020905923346,2.781783681214421,2.8126009693053313],\"yaxis\":\"y\",\"type\":\"bar\"},{\"alignmentgroup\":\"True\",\"hovertemplate\":\"state_=OR<br>name=%{x}<br>customer_stars=%{y}<extra></extra>\",\"legendgroup\":\"OR\",\"marker\":{\"color\":\"#FFA15A\",\"pattern\":{\"shape\":\"\"}},\"name\":\"OR\",\"offsetgroup\":\"OR\",\"orientation\":\"v\",\"showlegend\":true,\"textposition\":\"auto\",\"x\":[\"Benihana\"],\"xaxis\":\"x\",\"y\":[2.720319099014547],\"yaxis\":\"y\",\"type\":\"bar\"}],                        {\"template\":{\"data\":{\"histogram2dcontour\":[{\"type\":\"histogram2dcontour\",\"colorbar\":{\"outlinewidth\":0,\"ticks\":\"\"},\"colorscale\":[[0.0,\"#0d0887\"],[0.1111111111111111,\"#46039f\"],[0.2222222222222222,\"#7201a8\"],[0.3333333333333333,\"#9c179e\"],[0.4444444444444444,\"#bd3786\"],[0.5555555555555556,\"#d8576b\"],[0.6666666666666666,\"#ed7953\"],[0.7777777777777778,\"#fb9f3a\"],[0.8888888888888888,\"#fdca26\"],[1.0,\"#f0f921\"]]}],\"choropleth\":[{\"type\":\"choropleth\",\"colorbar\":{\"outlinewidth\":0,\"ticks\":\"\"}}],\"histogram2d\":[{\"type\":\"histogram2d\",\"colorbar\":{\"outlinewidth\":0,\"ticks\":\"\"},\"colorscale\":[[0.0,\"#0d0887\"],[0.1111111111111111,\"#46039f\"],[0.2222222222222222,\"#7201a8\"],[0.3333333333333333,\"#9c179e\"],[0.4444444444444444,\"#bd3786\"],[0.5555555555555556,\"#d8576b\"],[0.6666666666666666,\"#ed7953\"],[0.7777777777777778,\"#fb9f3a\"],[0.8888888888888888,\"#fdca26\"],[1.0,\"#f0f921\"]]}],\"heatmap\":[{\"type\":\"heatmap\",\"colorbar\":{\"outlinewidth\":0,\"ticks\":\"\"},\"colorscale\":[[0.0,\"#0d0887\"],[0.1111111111111111,\"#46039f\"],[0.2222222222222222,\"#7201a8\"],[0.3333333333333333,\"#9c179e\"],[0.4444444444444444,\"#bd3786\"],[0.5555555555555556,\"#d8576b\"],[0.6666666666666666,\"#ed7953\"],[0.7777777777777778,\"#fb9f3a\"],[0.8888888888888888,\"#fdca26\"],[1.0,\"#f0f921\"]]}],\"heatmapgl\":[{\"type\":\"heatmapgl\",\"colorbar\":{\"outlinewidth\":0,\"ticks\":\"\"},\"colorscale\":[[0.0,\"#0d0887\"],[0.1111111111111111,\"#46039f\"],[0.2222222222222222,\"#7201a8\"],[0.3333333333333333,\"#9c179e\"],[0.4444444444444444,\"#bd3786\"],[0.5555555555555556,\"#d8576b\"],[0.6666666666666666,\"#ed7953\"],[0.7777777777777778,\"#fb9f3a\"],[0.8888888888888888,\"#fdca26\"],[1.0,\"#f0f921\"]]}],\"contourcarpet\":[{\"type\":\"contourcarpet\",\"colorbar\":{\"outlinewidth\":0,\"ticks\":\"\"}}],\"contour\":[{\"type\":\"contour\",\"colorbar\":{\"outlinewidth\":0,\"ticks\":\"\"},\"colorscale\":[[0.0,\"#0d0887\"],[0.1111111111111111,\"#46039f\"],[0.2222222222222222,\"#7201a8\"],[0.3333333333333333,\"#9c179e\"],[0.4444444444444444,\"#bd3786\"],[0.5555555555555556,\"#d8576b\"],[0.6666666666666666,\"#ed7953\"],[0.7777777777777778,\"#fb9f3a\"],[0.8888888888888888,\"#fdca26\"],[1.0,\"#f0f921\"]]}],\"surface\":[{\"type\":\"surface\",\"colorbar\":{\"outlinewidth\":0,\"ticks\":\"\"},\"colorscale\":[[0.0,\"#0d0887\"],[0.1111111111111111,\"#46039f\"],[0.2222222222222222,\"#7201a8\"],[0.3333333333333333,\"#9c179e\"],[0.4444444444444444,\"#bd3786\"],[0.5555555555555556,\"#d8576b\"],[0.6666666666666666,\"#ed7953\"],[0.7777777777777778,\"#fb9f3a\"],[0.8888888888888888,\"#fdca26\"],[1.0,\"#f0f921\"]]}],\"mesh3d\":[{\"type\":\"mesh3d\",\"colorbar\":{\"outlinewidth\":0,\"ticks\":\"\"}}],\"scatter\":[{\"fillpattern\":{\"fillmode\":\"overlay\",\"size\":10,\"solidity\":0.2},\"type\":\"scatter\"}],\"parcoords\":[{\"type\":\"parcoords\",\"line\":{\"colorbar\":{\"outlinewidth\":0,\"ticks\":\"\"}}}],\"scatterpolargl\":[{\"type\":\"scatterpolargl\",\"marker\":{\"colorbar\":{\"outlinewidth\":0,\"ticks\":\"\"}}}],\"bar\":[{\"error_x\":{\"color\":\"#2a3f5f\"},\"error_y\":{\"color\":\"#2a3f5f\"},\"marker\":{\"line\":{\"color\":\"#E5ECF6\",\"width\":0.5},\"pattern\":{\"fillmode\":\"overlay\",\"size\":10,\"solidity\":0.2}},\"type\":\"bar\"}],\"scattergeo\":[{\"type\":\"scattergeo\",\"marker\":{\"colorbar\":{\"outlinewidth\":0,\"ticks\":\"\"}}}],\"scatterpolar\":[{\"type\":\"scatterpolar\",\"marker\":{\"colorbar\":{\"outlinewidth\":0,\"ticks\":\"\"}}}],\"histogram\":[{\"marker\":{\"pattern\":{\"fillmode\":\"overlay\",\"size\":10,\"solidity\":0.2}},\"type\":\"histogram\"}],\"scattergl\":[{\"type\":\"scattergl\",\"marker\":{\"colorbar\":{\"outlinewidth\":0,\"ticks\":\"\"}}}],\"scatter3d\":[{\"type\":\"scatter3d\",\"line\":{\"colorbar\":{\"outlinewidth\":0,\"ticks\":\"\"}},\"marker\":{\"colorbar\":{\"outlinewidth\":0,\"ticks\":\"\"}}}],\"scattermapbox\":[{\"type\":\"scattermapbox\",\"marker\":{\"colorbar\":{\"outlinewidth\":0,\"ticks\":\"\"}}}],\"scatterternary\":[{\"type\":\"scatterternary\",\"marker\":{\"colorbar\":{\"outlinewidth\":0,\"ticks\":\"\"}}}],\"scattercarpet\":[{\"type\":\"scattercarpet\",\"marker\":{\"colorbar\":{\"outlinewidth\":0,\"ticks\":\"\"}}}],\"carpet\":[{\"aaxis\":{\"endlinecolor\":\"#2a3f5f\",\"gridcolor\":\"white\",\"linecolor\":\"white\",\"minorgridcolor\":\"white\",\"startlinecolor\":\"#2a3f5f\"},\"baxis\":{\"endlinecolor\":\"#2a3f5f\",\"gridcolor\":\"white\",\"linecolor\":\"white\",\"minorgridcolor\":\"white\",\"startlinecolor\":\"#2a3f5f\"},\"type\":\"carpet\"}],\"table\":[{\"cells\":{\"fill\":{\"color\":\"#EBF0F8\"},\"line\":{\"color\":\"white\"}},\"header\":{\"fill\":{\"color\":\"#C8D4E3\"},\"line\":{\"color\":\"white\"}},\"type\":\"table\"}],\"barpolar\":[{\"marker\":{\"line\":{\"color\":\"#E5ECF6\",\"width\":0.5},\"pattern\":{\"fillmode\":\"overlay\",\"size\":10,\"solidity\":0.2}},\"type\":\"barpolar\"}],\"pie\":[{\"automargin\":true,\"type\":\"pie\"}]},\"layout\":{\"autotypenumbers\":\"strict\",\"colorway\":[\"#636efa\",\"#EF553B\",\"#00cc96\",\"#ab63fa\",\"#FFA15A\",\"#19d3f3\",\"#FF6692\",\"#B6E880\",\"#FF97FF\",\"#FECB52\"],\"font\":{\"color\":\"#2a3f5f\"},\"hovermode\":\"closest\",\"hoverlabel\":{\"align\":\"left\"},\"paper_bgcolor\":\"white\",\"plot_bgcolor\":\"#E5ECF6\",\"polar\":{\"bgcolor\":\"#E5ECF6\",\"angularaxis\":{\"gridcolor\":\"white\",\"linecolor\":\"white\",\"ticks\":\"\"},\"radialaxis\":{\"gridcolor\":\"white\",\"linecolor\":\"white\",\"ticks\":\"\"}},\"ternary\":{\"bgcolor\":\"#E5ECF6\",\"aaxis\":{\"gridcolor\":\"white\",\"linecolor\":\"white\",\"ticks\":\"\"},\"baxis\":{\"gridcolor\":\"white\",\"linecolor\":\"white\",\"ticks\":\"\"},\"caxis\":{\"gridcolor\":\"white\",\"linecolor\":\"white\",\"ticks\":\"\"}},\"coloraxis\":{\"colorbar\":{\"outlinewidth\":0,\"ticks\":\"\"}},\"colorscale\":{\"sequential\":[[0.0,\"#0d0887\"],[0.1111111111111111,\"#46039f\"],[0.2222222222222222,\"#7201a8\"],[0.3333333333333333,\"#9c179e\"],[0.4444444444444444,\"#bd3786\"],[0.5555555555555556,\"#d8576b\"],[0.6666666666666666,\"#ed7953\"],[0.7777777777777778,\"#fb9f3a\"],[0.8888888888888888,\"#fdca26\"],[1.0,\"#f0f921\"]],\"sequentialminus\":[[0.0,\"#0d0887\"],[0.1111111111111111,\"#46039f\"],[0.2222222222222222,\"#7201a8\"],[0.3333333333333333,\"#9c179e\"],[0.4444444444444444,\"#bd3786\"],[0.5555555555555556,\"#d8576b\"],[0.6666666666666666,\"#ed7953\"],[0.7777777777777778,\"#fb9f3a\"],[0.8888888888888888,\"#fdca26\"],[1.0,\"#f0f921\"]],\"diverging\":[[0,\"#8e0152\"],[0.1,\"#c51b7d\"],[0.2,\"#de77ae\"],[0.3,\"#f1b6da\"],[0.4,\"#fde0ef\"],[0.5,\"#f7f7f7\"],[0.6,\"#e6f5d0\"],[0.7,\"#b8e186\"],[0.8,\"#7fbc41\"],[0.9,\"#4d9221\"],[1,\"#276419\"]]},\"xaxis\":{\"gridcolor\":\"white\",\"linecolor\":\"white\",\"ticks\":\"\",\"title\":{\"standoff\":15},\"zerolinecolor\":\"white\",\"automargin\":true,\"zerolinewidth\":2},\"yaxis\":{\"gridcolor\":\"white\",\"linecolor\":\"white\",\"ticks\":\"\",\"title\":{\"standoff\":15},\"zerolinecolor\":\"white\",\"automargin\":true,\"zerolinewidth\":2},\"scene\":{\"xaxis\":{\"backgroundcolor\":\"#E5ECF6\",\"gridcolor\":\"white\",\"linecolor\":\"white\",\"showbackground\":true,\"ticks\":\"\",\"zerolinecolor\":\"white\",\"gridwidth\":2},\"yaxis\":{\"backgroundcolor\":\"#E5ECF6\",\"gridcolor\":\"white\",\"linecolor\":\"white\",\"showbackground\":true,\"ticks\":\"\",\"zerolinecolor\":\"white\",\"gridwidth\":2},\"zaxis\":{\"backgroundcolor\":\"#E5ECF6\",\"gridcolor\":\"white\",\"linecolor\":\"white\",\"showbackground\":true,\"ticks\":\"\",\"zerolinecolor\":\"white\",\"gridwidth\":2}},\"shapedefaults\":{\"line\":{\"color\":\"#2a3f5f\"}},\"annotationdefaults\":{\"arrowcolor\":\"#2a3f5f\",\"arrowhead\":0,\"arrowwidth\":1},\"geo\":{\"bgcolor\":\"white\",\"landcolor\":\"#E5ECF6\",\"subunitcolor\":\"white\",\"showland\":true,\"showlakes\":true,\"lakecolor\":\"white\"},\"title\":{\"x\":0.05},\"mapbox\":{\"style\":\"light\"}}},\"xaxis\":{\"anchor\":\"y\",\"domain\":[0.0,1.0],\"title\":{\"text\":\"name\"},\"categoryorder\":\"total descending\"},\"yaxis\":{\"anchor\":\"x\",\"domain\":[0.0,1.0],\"title\":{\"text\":\"customer_stars\"},\"range\":[1,3]},\"legend\":{\"title\":{\"text\":\"state_\"},\"tracegroupgap\":0},\"title\":{\"text\":\"The Lowest Rated Restaurants\"},\"barmode\":\"stack\"},                        {\"responsive\": true}                    ).then(function(){\n",
       "                            \n",
       "var gd = document.getElementById('63467f9a-7293-4253-a04f-e39b02be6b7c');\n",
       "var x = new MutationObserver(function (mutations, observer) {{\n",
       "        var display = window.getComputedStyle(gd).display;\n",
       "        if (!display || display === 'none') {{\n",
       "            console.log([gd, 'removed!']);\n",
       "            Plotly.purge(gd);\n",
       "            observer.disconnect();\n",
       "        }}\n",
       "}});\n",
       "\n",
       "// Listen for the removal of the full notebook cells\n",
       "var notebookContainer = gd.closest('#notebook-container');\n",
       "if (notebookContainer) {{\n",
       "    x.observe(notebookContainer, {childList: true});\n",
       "}}\n",
       "\n",
       "// Listen for the clearing of the current output cell\n",
       "var outputEl = gd.closest('.output');\n",
       "if (outputEl) {{\n",
       "    x.observe(outputEl, {childList: true});\n",
       "}}\n",
       "\n",
       "                        })                };                });            </script>        </div>"
      ]
     },
     "metadata": {},
     "output_type": "display_data"
    }
   ],
   "source": [
    "least_popular = popularity[popularity['review_count'] >= 500].sort_values('customer_stars', ascending = True).head(12)\n",
    "\n",
    "fig = px.bar(least_popular, x='name', y='customer_stars', color = 'state_', title = \"The Lowest Rated Restaurants\")\n",
    "\n",
    "fig.update_layout(barmode='stack', xaxis={'categoryorder':'total descending'})\n",
    "fig.update_layout(yaxis=dict(range=[1,3]))\n",
    "fig.show()"
   ]
  },
  {
   "cell_type": "markdown",
   "id": "e6c76904",
   "metadata": {},
   "source": [
    "## States w best restaurants"
   ]
  },
  {
   "cell_type": "code",
   "execution_count": 121,
   "id": "fd685d06",
   "metadata": {},
   "outputs": [
    {
     "data": {
      "text/html": [
       "<div>\n",
       "<style scoped>\n",
       "    .dataframe tbody tr th:only-of-type {\n",
       "        vertical-align: middle;\n",
       "    }\n",
       "\n",
       "    .dataframe tbody tr th {\n",
       "        vertical-align: top;\n",
       "    }\n",
       "\n",
       "    .dataframe thead th {\n",
       "        text-align: right;\n",
       "    }\n",
       "</style>\n",
       "<table border=\"1\" class=\"dataframe\">\n",
       "  <thead>\n",
       "    <tr style=\"text-align: right;\">\n",
       "      <th></th>\n",
       "      <th>state_</th>\n",
       "      <th>review_count</th>\n",
       "      <th>customer_stars</th>\n",
       "    </tr>\n",
       "  </thead>\n",
       "  <tbody>\n",
       "    <tr>\n",
       "      <th>11</th>\n",
       "      <td>OR</td>\n",
       "      <td>9185</td>\n",
       "      <td>3.909</td>\n",
       "    </tr>\n",
       "    <tr>\n",
       "      <th>2</th>\n",
       "      <td>CO</td>\n",
       "      <td>1491</td>\n",
       "      <td>3.880</td>\n",
       "    </tr>\n",
       "    <tr>\n",
       "      <th>12</th>\n",
       "      <td>TX</td>\n",
       "      <td>4942</td>\n",
       "      <td>3.862</td>\n",
       "    </tr>\n",
       "    <tr>\n",
       "      <th>3</th>\n",
       "      <td>FL</td>\n",
       "      <td>3236</td>\n",
       "      <td>3.824</td>\n",
       "    </tr>\n",
       "    <tr>\n",
       "      <th>10</th>\n",
       "      <td>OH</td>\n",
       "      <td>1354</td>\n",
       "      <td>3.764</td>\n",
       "    </tr>\n",
       "    <tr>\n",
       "      <th>4</th>\n",
       "      <td>GA</td>\n",
       "      <td>3861</td>\n",
       "      <td>3.740</td>\n",
       "    </tr>\n",
       "    <tr>\n",
       "      <th>7</th>\n",
       "      <td>MA</td>\n",
       "      <td>7298</td>\n",
       "      <td>3.726</td>\n",
       "    </tr>\n",
       "    <tr>\n",
       "      <th>14</th>\n",
       "      <td>WA</td>\n",
       "      <td>719</td>\n",
       "      <td>3.698</td>\n",
       "    </tr>\n",
       "    <tr>\n",
       "      <th>1</th>\n",
       "      <td>BC</td>\n",
       "      <td>2302</td>\n",
       "      <td>3.682</td>\n",
       "    </tr>\n",
       "  </tbody>\n",
       "</table>\n",
       "</div>"
      ],
      "text/plain": [
       "   state_  review_count  customer_stars\n",
       "11     OR          9185           3.909\n",
       "2      CO          1491           3.880\n",
       "12     TX          4942           3.862\n",
       "3      FL          3236           3.824\n",
       "10     OH          1354           3.764\n",
       "4      GA          3861           3.740\n",
       "7      MA          7298           3.726\n",
       "14     WA           719           3.698\n",
       "1      BC          2302           3.682"
      ]
     },
     "execution_count": 121,
     "metadata": {},
     "output_type": "execute_result"
    }
   ],
   "source": [
    "best_state = reviews[['state_', 'review_count', 'customer_stars']]\n",
    "best_state = best_state.groupby('state_', as_index=False).agg({'review_count':'max', 'customer_stars':'mean'})\n",
    "best_state = best_state[best_state['review_count'] > 28].sort_values('customer_stars', ascending = False).head(12)\n",
    "best_state    "
   ]
  },
  {
   "cell_type": "code",
   "execution_count": 122,
   "id": "19031bcd",
   "metadata": {},
   "outputs": [
    {
     "data": {
      "image/png": "[encoded data removed]",
      "text/plain": [
       "<Figure size 640x480 with 1 Axes>"
      ]
     },
     "metadata": {},
     "output_type": "display_data"
    }
   ],
   "source": [
    "ax = sns.barplot(data=best_state,x=\"state_\", y=\"customer_stars\",alpha=0.8, palette = 'rocket_r')\n",
    "ax.set_ylim([3.4,3.92])\n",
    "\n",
    "plt.xlabel('')\n",
    "plt.title(\"Regions With Highest Rated Restaurants\")\n",
    "plt.show()\n"
   ]
  },
  {
   "cell_type": "markdown",
   "id": "7361beda",
   "metadata": {},
   "source": [
    "# How does customer sentiment correlate with star ratings"
   ]
  },
  {
   "cell_type": "code",
   "execution_count": 27,
   "id": "e259af58",
   "metadata": {},
   "outputs": [],
   "source": [
    "vader = SentimentIntensityAnalyzer()"
   ]
  },
  {
   "cell_type": "code",
   "execution_count": 28,
   "id": "9052b151",
   "metadata": {},
   "outputs": [],
   "source": [
    "%%capture --no-display\n",
    "\n",
    "f = lambda text: vader.polarity_scores(text)['compound']\n",
    "reviews['compound'] = reviews['text_'].apply(f)"
   ]
  },
  {
   "cell_type": "code",
   "execution_count": 29,
   "id": "150abffc",
   "metadata": {},
   "outputs": [
    {
     "data": {
      "image/png": "[encoded data removed]",
      "text/plain": [
       "<Figure size 640x480 with 1 Axes>"
      ]
     },
     "metadata": {},
     "output_type": "display_data"
    }
   ],
   "source": [
    "ax = sns.barplot(data=reviews, x='customer_stars', y='compound')\n",
    "ax.set_title('Compound Score by Customer Star Review')\n",
    "plt.savefig('Compound_Score_by_Customer.png', bbox_inches='tight')\n",
    "plt.show()"
   ]
  },
  {
   "cell_type": "markdown",
   "id": "78bef70f",
   "metadata": {},
   "source": [
    "# What words appear the most in positive/negative reviews?\n"
   ]
  },
  {
   "cell_type": "code",
   "execution_count": 124,
   "id": "d53ad735",
   "metadata": {},
   "outputs": [
    {
     "data": {
      "text/html": [
       "<div>\n",
       "<style scoped>\n",
       "    .dataframe tbody tr th:only-of-type {\n",
       "        vertical-align: middle;\n",
       "    }\n",
       "\n",
       "    .dataframe tbody tr th {\n",
       "        vertical-align: top;\n",
       "    }\n",
       "\n",
       "    .dataframe thead th {\n",
       "        text-align: right;\n",
       "    }\n",
       "</style>\n",
       "<table border=\"1\" class=\"dataframe\">\n",
       "  <thead>\n",
       "    <tr style=\"text-align: right;\">\n",
       "      <th></th>\n",
       "      <th>business_id</th>\n",
       "      <th>name</th>\n",
       "      <th>address</th>\n",
       "      <th>state_</th>\n",
       "      <th>city</th>\n",
       "      <th>postal_code</th>\n",
       "      <th>latitude</th>\n",
       "      <th>longitude</th>\n",
       "      <th>stars</th>\n",
       "      <th>review_count</th>\n",
       "      <th>...</th>\n",
       "      <th>hours</th>\n",
       "      <th>review_id</th>\n",
       "      <th>user_id</th>\n",
       "      <th>customer_stars</th>\n",
       "      <th>useful</th>\n",
       "      <th>funny</th>\n",
       "      <th>cool</th>\n",
       "      <th>text_</th>\n",
       "      <th>date_</th>\n",
       "      <th>Pre_covid</th>\n",
       "    </tr>\n",
       "  </thead>\n",
       "  <tbody>\n",
       "    <tr>\n",
       "      <th>1</th>\n",
       "      <td>TA1KUSCu8GkWP9w0rmElxw</td>\n",
       "      <td>FLIP burger boutique</td>\n",
       "      <td>1587 Howell Mill Rd</td>\n",
       "      <td>GA</td>\n",
       "      <td>Atlanta</td>\n",
       "      <td>30318</td>\n",
       "      <td>33.798</td>\n",
       "      <td>-84.416</td>\n",
       "      <td>4.000</td>\n",
       "      <td>1909</td>\n",
       "      <td>...</td>\n",
       "      <td>{'Monday': '12:0-20:0', 'Tuesday': '12:0-20:0'...</td>\n",
       "      <td>Gi5LSRmTXoL9Bp4jNGPjLw</td>\n",
       "      <td>hn0ZbitvmlHnF--KJGJ6_A</td>\n",
       "      <td>4</td>\n",
       "      <td>0</td>\n",
       "      <td>0</td>\n",
       "      <td>0</td>\n",
       "      <td>I have been here twice and have had really goo...</td>\n",
       "      <td>2011-10-27 14:32:57</td>\n",
       "      <td>True</td>\n",
       "    </tr>\n",
       "    <tr>\n",
       "      <th>3</th>\n",
       "      <td>mOnesB4IF9j6-ZmHoOHOig</td>\n",
       "      <td>Pho Van</td>\n",
       "      <td>8557 Research Blvd</td>\n",
       "      <td>TX</td>\n",
       "      <td>Austin</td>\n",
       "      <td>78758</td>\n",
       "      <td>30.361</td>\n",
       "      <td>-97.716</td>\n",
       "      <td>4.000</td>\n",
       "      <td>364</td>\n",
       "      <td>...</td>\n",
       "      <td>{'Monday': '10:30-21:0', 'Tuesday': '10:30-21:...</td>\n",
       "      <td>GDgXjXSZCA1iNQWD7OHXfg</td>\n",
       "      <td>1RCRKuHgP3FskGUVnmFdxg</td>\n",
       "      <td>4</td>\n",
       "      <td>0</td>\n",
       "      <td>0</td>\n",
       "      <td>0</td>\n",
       "      <td>I think their rice dishes are way better than ...</td>\n",
       "      <td>2017-05-26 03:05:46</td>\n",
       "      <td>True</td>\n",
       "    </tr>\n",
       "    <tr>\n",
       "      <th>4</th>\n",
       "      <td>jMz_y_-cWMfiZF7Q5snE6Q</td>\n",
       "      <td>Ramen Danbo</td>\n",
       "      <td>1333 Robson Street</td>\n",
       "      <td>BC</td>\n",
       "      <td>Vancouver</td>\n",
       "      <td>V6E 2B1</td>\n",
       "      <td>49.287</td>\n",
       "      <td>-123.129</td>\n",
       "      <td>4.500</td>\n",
       "      <td>436</td>\n",
       "      <td>...</td>\n",
       "      <td>{'Monday': '11:0-23:0', 'Tuesday': '11:0-23:0'...</td>\n",
       "      <td>1OsubwE6zKNU1fkBGxOFrQ</td>\n",
       "      <td>vFnYYmtVwcMGyyGesNImVQ</td>\n",
       "      <td>5</td>\n",
       "      <td>0</td>\n",
       "      <td>0</td>\n",
       "      <td>0</td>\n",
       "      <td>Ordered the original tonkotsu base ramen and a...</td>\n",
       "      <td>2016-01-30 02:39:22</td>\n",
       "      <td>True</td>\n",
       "    </tr>\n",
       "    <tr>\n",
       "      <th>5</th>\n",
       "      <td>tiKV9b0b2kpaGm5a-nd1ig</td>\n",
       "      <td>Ristorante Serena</td>\n",
       "      <td>18 Lebanon St</td>\n",
       "      <td>MA</td>\n",
       "      <td>Malden</td>\n",
       "      <td>02148</td>\n",
       "      <td>42.434</td>\n",
       "      <td>-71.046</td>\n",
       "      <td>4.500</td>\n",
       "      <td>119</td>\n",
       "      <td>...</td>\n",
       "      <td>{'Tuesday': '16:0-21:0', 'Wednesday': '16:0-21...</td>\n",
       "      <td>g2xwd2o7ynGmdxhoDctooQ</td>\n",
       "      <td>QpsbLV8dNFI9cxhrBGA0Rw</td>\n",
       "      <td>4</td>\n",
       "      <td>0</td>\n",
       "      <td>0</td>\n",
       "      <td>0</td>\n",
       "      <td>This place is truly a hidden gem (literally hi...</td>\n",
       "      <td>2015-01-03 21:34:06</td>\n",
       "      <td>True</td>\n",
       "    </tr>\n",
       "    <tr>\n",
       "      <th>6</th>\n",
       "      <td>luOZQ9YBrWwP8mYrS4rNoA</td>\n",
       "      <td>Happy Fortune</td>\n",
       "      <td>10420 SW Barbur Blvd</td>\n",
       "      <td>OR</td>\n",
       "      <td>Portland</td>\n",
       "      <td>97219</td>\n",
       "      <td>45.450</td>\n",
       "      <td>-122.727</td>\n",
       "      <td>3.000</td>\n",
       "      <td>71</td>\n",
       "      <td>...</td>\n",
       "      <td>{'Monday': '11:30-22:0', 'Tuesday': '11:30-22:...</td>\n",
       "      <td>nJTSr-EGNhhA5o146THkPg</td>\n",
       "      <td>T9O5pkKKlNvr-qqfefDlbA</td>\n",
       "      <td>4</td>\n",
       "      <td>2</td>\n",
       "      <td>0</td>\n",
       "      <td>0</td>\n",
       "      <td>This place has some of the BEST chinese take-o...</td>\n",
       "      <td>2008-12-03 04:39:26</td>\n",
       "      <td>True</td>\n",
       "    </tr>\n",
       "    <tr>\n",
       "      <th>...</th>\n",
       "      <td>...</td>\n",
       "      <td>...</td>\n",
       "      <td>...</td>\n",
       "      <td>...</td>\n",
       "      <td>...</td>\n",
       "      <td>...</td>\n",
       "      <td>...</td>\n",
       "      <td>...</td>\n",
       "      <td>...</td>\n",
       "      <td>...</td>\n",
       "      <td>...</td>\n",
       "      <td>...</td>\n",
       "      <td>...</td>\n",
       "      <td>...</td>\n",
       "      <td>...</td>\n",
       "      <td>...</td>\n",
       "      <td>...</td>\n",
       "      <td>...</td>\n",
       "      <td>...</td>\n",
       "      <td>...</td>\n",
       "      <td>...</td>\n",
       "    </tr>\n",
       "    <tr>\n",
       "      <th>63293</th>\n",
       "      <td>T1r8VNuEWlsmmHCER4nnUA</td>\n",
       "      <td>The Megabite</td>\n",
       "      <td>10411 NE Fourth Plain Blvd</td>\n",
       "      <td>WA</td>\n",
       "      <td>Vancouver</td>\n",
       "      <td>98662</td>\n",
       "      <td>45.662</td>\n",
       "      <td>-122.565</td>\n",
       "      <td>4.000</td>\n",
       "      <td>98</td>\n",
       "      <td>...</td>\n",
       "      <td>{'Monday': '11:0-22:0', 'Wednesday': '11:0-21:...</td>\n",
       "      <td>CLJcvwrQ7j4EECqEv0E8hA</td>\n",
       "      <td>MNKqJzdYzh3WfhozcuKXfQ</td>\n",
       "      <td>4</td>\n",
       "      <td>4</td>\n",
       "      <td>2</td>\n",
       "      <td>2</td>\n",
       "      <td>Found this place by accident...was shopping fo...</td>\n",
       "      <td>2018-07-06 03:53:30</td>\n",
       "      <td>True</td>\n",
       "    </tr>\n",
       "    <tr>\n",
       "      <th>63297</th>\n",
       "      <td>KK-6rXbIo9B4-b_P5WO5Qg</td>\n",
       "      <td>Clay Pit</td>\n",
       "      <td>1601 Guadalupe St</td>\n",
       "      <td>TX</td>\n",
       "      <td>Austin</td>\n",
       "      <td>78701</td>\n",
       "      <td>30.279</td>\n",
       "      <td>-97.742</td>\n",
       "      <td>4.000</td>\n",
       "      <td>1583</td>\n",
       "      <td>...</td>\n",
       "      <td>{'Monday': '16:0-21:0', 'Tuesday': '11:0-21:0'...</td>\n",
       "      <td>9Wh7mMI6FROK7wLH9jXpsQ</td>\n",
       "      <td>2oVYK0HEtNsZvBqAU8DGgg</td>\n",
       "      <td>5</td>\n",
       "      <td>1</td>\n",
       "      <td>0</td>\n",
       "      <td>1</td>\n",
       "      <td>Great for gluten free, good with kids. Food is...</td>\n",
       "      <td>2014-09-23 20:25:55</td>\n",
       "      <td>True</td>\n",
       "    </tr>\n",
       "    <tr>\n",
       "      <th>63298</th>\n",
       "      <td>4UjU7F_EX3lgUtkzN8Bbrw</td>\n",
       "      <td>Shan-A-Punjab</td>\n",
       "      <td>500 Harvard St</td>\n",
       "      <td>MA</td>\n",
       "      <td>Brookline</td>\n",
       "      <td>02446</td>\n",
       "      <td>42.348</td>\n",
       "      <td>-71.130</td>\n",
       "      <td>4.000</td>\n",
       "      <td>426</td>\n",
       "      <td>...</td>\n",
       "      <td>{'Monday': '11:30-22:0', 'Tuesday': '11:30-22:...</td>\n",
       "      <td>BzGX9hYGN29EvldW_TZmCw</td>\n",
       "      <td>NjbNbvysh1Y0j_KIHVebOg</td>\n",
       "      <td>5</td>\n",
       "      <td>0</td>\n",
       "      <td>0</td>\n",
       "      <td>0</td>\n",
       "      <td>Only have a few minutes - but stopped by a wee...</td>\n",
       "      <td>2015-04-27 21:15:59</td>\n",
       "      <td>True</td>\n",
       "    </tr>\n",
       "    <tr>\n",
       "      <th>63300</th>\n",
       "      <td>bZiIIUcpgxh8mpKMDhdqbA</td>\n",
       "      <td>Hopdoddy Burger Bar</td>\n",
       "      <td>1400 S Congress Ave, Ste A190</td>\n",
       "      <td>TX</td>\n",
       "      <td>Austin</td>\n",
       "      <td>78704</td>\n",
       "      <td>30.250</td>\n",
       "      <td>-97.750</td>\n",
       "      <td>4.000</td>\n",
       "      <td>4708</td>\n",
       "      <td>...</td>\n",
       "      <td>{'Monday': '11:0-21:0', 'Tuesday': '11:0-21:0'...</td>\n",
       "      <td>3mOzfG1IgVmSMCwOtkgu7w</td>\n",
       "      <td>qtnLyAYMcONRbqAD-aQEiA</td>\n",
       "      <td>5</td>\n",
       "      <td>0</td>\n",
       "      <td>0</td>\n",
       "      <td>0</td>\n",
       "      <td>This has remained my favorite sit down burger ...</td>\n",
       "      <td>2014-07-25 21:43:59</td>\n",
       "      <td>True</td>\n",
       "    </tr>\n",
       "    <tr>\n",
       "      <th>63305</th>\n",
       "      <td>2I1zJBC3QVMM0o3Awa_SfA</td>\n",
       "      <td>Cafe At Pharr</td>\n",
       "      <td>4300 Paces Ferry Rd SE, Ste 244</td>\n",
       "      <td>GA</td>\n",
       "      <td>Atlanta</td>\n",
       "      <td>30339</td>\n",
       "      <td>33.866</td>\n",
       "      <td>-84.467</td>\n",
       "      <td>3.500</td>\n",
       "      <td>31</td>\n",
       "      <td>...</td>\n",
       "      <td>{'Monday': '10:0-15:0', 'Tuesday': '10:0-15:0'...</td>\n",
       "      <td>KFQx-UFFvKrbrNiR9rVWfA</td>\n",
       "      <td>RfJ2IQlk8hl7dbs21xjd-A</td>\n",
       "      <td>5</td>\n",
       "      <td>0</td>\n",
       "      <td>0</td>\n",
       "      <td>0</td>\n",
       "      <td>I'm a regular patron of the Foxglove Antiques ...</td>\n",
       "      <td>2015-03-31 17:44:40</td>\n",
       "      <td>True</td>\n",
       "    </tr>\n",
       "  </tbody>\n",
       "</table>\n",
       "<p>36280 rows × 22 columns</p>\n",
       "</div>"
      ],
      "text/plain": [
       "                  business_id                  name  \\\n",
       "1      TA1KUSCu8GkWP9w0rmElxw  FLIP burger boutique   \n",
       "3      mOnesB4IF9j6-ZmHoOHOig               Pho Van   \n",
       "4      jMz_y_-cWMfiZF7Q5snE6Q           Ramen Danbo   \n",
       "5      tiKV9b0b2kpaGm5a-nd1ig     Ristorante Serena   \n",
       "6      luOZQ9YBrWwP8mYrS4rNoA         Happy Fortune   \n",
       "...                       ...                   ...   \n",
       "63293  T1r8VNuEWlsmmHCER4nnUA          The Megabite   \n",
       "63297  KK-6rXbIo9B4-b_P5WO5Qg              Clay Pit   \n",
       "63298  4UjU7F_EX3lgUtkzN8Bbrw         Shan-A-Punjab   \n",
       "63300  bZiIIUcpgxh8mpKMDhdqbA   Hopdoddy Burger Bar   \n",
       "63305  2I1zJBC3QVMM0o3Awa_SfA         Cafe At Pharr   \n",
       "\n",
       "                               address state_       city postal_code  \\\n",
       "1                  1587 Howell Mill Rd     GA    Atlanta       30318   \n",
       "3                   8557 Research Blvd     TX     Austin       78758   \n",
       "4                   1333 Robson Street     BC  Vancouver     V6E 2B1   \n",
       "5                        18 Lebanon St     MA     Malden       02148   \n",
       "6                 10420 SW Barbur Blvd     OR   Portland       97219   \n",
       "...                                ...    ...        ...         ...   \n",
       "63293       10411 NE Fourth Plain Blvd     WA  Vancouver       98662   \n",
       "63297                1601 Guadalupe St     TX     Austin       78701   \n",
       "63298                   500 Harvard St     MA  Brookline       02446   \n",
       "63300    1400 S Congress Ave, Ste A190     TX     Austin       78704   \n",
       "63305  4300 Paces Ferry Rd SE, Ste 244     GA    Atlanta       30339   \n",
       "\n",
       "       latitude  longitude  stars  review_count  ...  \\\n",
       "1        33.798    -84.416  4.000          1909  ...   \n",
       "3        30.361    -97.716  4.000           364  ...   \n",
       "4        49.287   -123.129  4.500           436  ...   \n",
       "5        42.434    -71.046  4.500           119  ...   \n",
       "6        45.450   -122.727  3.000            71  ...   \n",
       "...         ...        ...    ...           ...  ...   \n",
       "63293    45.662   -122.565  4.000            98  ...   \n",
       "63297    30.279    -97.742  4.000          1583  ...   \n",
       "63298    42.348    -71.130  4.000           426  ...   \n",
       "63300    30.250    -97.750  4.000          4708  ...   \n",
       "63305    33.866    -84.467  3.500            31  ...   \n",
       "\n",
       "                                                   hours  \\\n",
       "1      {'Monday': '12:0-20:0', 'Tuesday': '12:0-20:0'...   \n",
       "3      {'Monday': '10:30-21:0', 'Tuesday': '10:30-21:...   \n",
       "4      {'Monday': '11:0-23:0', 'Tuesday': '11:0-23:0'...   \n",
       "5      {'Tuesday': '16:0-21:0', 'Wednesday': '16:0-21...   \n",
       "6      {'Monday': '11:30-22:0', 'Tuesday': '11:30-22:...   \n",
       "...                                                  ...   \n",
       "63293  {'Monday': '11:0-22:0', 'Wednesday': '11:0-21:...   \n",
       "63297  {'Monday': '16:0-21:0', 'Tuesday': '11:0-21:0'...   \n",
       "63298  {'Monday': '11:30-22:0', 'Tuesday': '11:30-22:...   \n",
       "63300  {'Monday': '11:0-21:0', 'Tuesday': '11:0-21:0'...   \n",
       "63305  {'Monday': '10:0-15:0', 'Tuesday': '10:0-15:0'...   \n",
       "\n",
       "                    review_id                 user_id customer_stars useful  \\\n",
       "1      Gi5LSRmTXoL9Bp4jNGPjLw  hn0ZbitvmlHnF--KJGJ6_A              4      0   \n",
       "3      GDgXjXSZCA1iNQWD7OHXfg  1RCRKuHgP3FskGUVnmFdxg              4      0   \n",
       "4      1OsubwE6zKNU1fkBGxOFrQ  vFnYYmtVwcMGyyGesNImVQ              5      0   \n",
       "5      g2xwd2o7ynGmdxhoDctooQ  QpsbLV8dNFI9cxhrBGA0Rw              4      0   \n",
       "6      nJTSr-EGNhhA5o146THkPg  T9O5pkKKlNvr-qqfefDlbA              4      2   \n",
       "...                       ...                     ...            ...    ...   \n",
       "63293  CLJcvwrQ7j4EECqEv0E8hA  MNKqJzdYzh3WfhozcuKXfQ              4      4   \n",
       "63297  9Wh7mMI6FROK7wLH9jXpsQ  2oVYK0HEtNsZvBqAU8DGgg              5      1   \n",
       "63298  BzGX9hYGN29EvldW_TZmCw  NjbNbvysh1Y0j_KIHVebOg              5      0   \n",
       "63300  3mOzfG1IgVmSMCwOtkgu7w  qtnLyAYMcONRbqAD-aQEiA              5      0   \n",
       "63305  KFQx-UFFvKrbrNiR9rVWfA  RfJ2IQlk8hl7dbs21xjd-A              5      0   \n",
       "\n",
       "       funny  cool                                              text_  \\\n",
       "1          0     0  I have been here twice and have had really goo...   \n",
       "3          0     0  I think their rice dishes are way better than ...   \n",
       "4          0     0  Ordered the original tonkotsu base ramen and a...   \n",
       "5          0     0  This place is truly a hidden gem (literally hi...   \n",
       "6          0     0  This place has some of the BEST chinese take-o...   \n",
       "...      ...   ...                                                ...   \n",
       "63293      2     2  Found this place by accident...was shopping fo...   \n",
       "63297      0     1  Great for gluten free, good with kids. Food is...   \n",
       "63298      0     0  Only have a few minutes - but stopped by a wee...   \n",
       "63300      0     0  This has remained my favorite sit down burger ...   \n",
       "63305      0     0  I'm a regular patron of the Foxglove Antiques ...   \n",
       "\n",
       "                     date_ Pre_covid  \n",
       "1      2011-10-27 14:32:57      True  \n",
       "3      2017-05-26 03:05:46      True  \n",
       "4      2016-01-30 02:39:22      True  \n",
       "5      2015-01-03 21:34:06      True  \n",
       "6      2008-12-03 04:39:26      True  \n",
       "...                    ...       ...  \n",
       "63293  2018-07-06 03:53:30      True  \n",
       "63297  2014-09-23 20:25:55      True  \n",
       "63298  2015-04-27 21:15:59      True  \n",
       "63300  2014-07-25 21:43:59      True  \n",
       "63305  2015-03-31 17:44:40      True  \n",
       "\n",
       "[36280 rows x 22 columns]"
      ]
     },
     "execution_count": 124,
     "metadata": {},
     "output_type": "execute_result"
    }
   ],
   "source": [
    "positive_reviews = reviews[reviews['customer_stars'] >= 4]\n",
    "negative_reviews = reviews[reviews['customer_stars'] <= 2]\n",
    "negative_subset.head(2)"
   ]
  },
  {
   "cell_type": "code",
   "execution_count": 125,
   "id": "b9968f48",
   "metadata": {},
   "outputs": [
    {
     "data": {
      "text/plain": [
       "1160"
      ]
     },
     "execution_count": 125,
     "metadata": {},
     "output_type": "execute_result"
    }
   ],
   "source": [
    "gist_file = open(\"stopwords.txt\", \"r\")\n",
    "try:\n",
    "    content = gist_file.read()\n",
    "    stopwords = content.split(\",\")\n",
    "    stopwords=[i.replace('\"',\"\").strip() for i in stopwords]\n",
    "finally:\n",
    "    gist_file.close()\n",
    "len(stopwords)"
   ]
  },
  {
   "cell_type": "code",
   "execution_count": 126,
   "id": "9aa7c1e7",
   "metadata": {},
   "outputs": [],
   "source": [
    "def common_words(df, column, punctuations, stop_words):\n",
    "    check = \" \".join(df[column].tolist())\n",
    "    check = check.replace('\\r', '').replace('\\n', '')\n",
    "    \n",
    "    filtered_sentence = []\n",
    "    words = word_tokenize(check)\n",
    "    \n",
    "    for w in words:\n",
    "        if w.lower() not in stop_words:\n",
    "            filtered_sentence.append(w)\n",
    "            \n",
    "    filtered_sentence = [i for i in filtered_sentence if (i not in punctuations) and (len(i)>2)]\n",
    "    filtered_sentence = [w for w in filtered_sentence if all(c not in w for c in \"''\")]\n",
    "    common = Counter(filtered_sentence).most_common(30)\n",
    "    return(common)"
   ]
  },
  {
   "cell_type": "code",
   "execution_count": 127,
   "id": "c652e3c9",
   "metadata": {},
   "outputs": [],
   "source": [
    "punctuations = list(string.punctuation)\n",
    "punctuations.append(\"''\")\n",
    "punctuations.append('..')\n",
    "punctuations.append(\"``\")\n",
    "punctuations.append('...')\n",
    "punctuations.append('--')"
   ]
  },
  {
   "cell_type": "code",
   "execution_count": 42,
   "id": "30d8ee11",
   "metadata": {},
   "outputs": [],
   "source": [
    "positive_reviews = common_words(positive_reviews, 'text_', punctuations, stopwords)\n",
    "negative_reviews = common_words(negative_reviews, 'text_', punctuations, stopwords)"
   ]
  },
  {
   "cell_type": "code",
   "execution_count": 59,
   "id": "0f4f41d4",
   "metadata": {},
   "outputs": [
    {
     "data": {
      "image/png": "[encoded data removed]",
      "text/plain": [
       "<Figure size 640x480 with 1 Axes>"
      ]
     },
     "metadata": {},
     "output_type": "display_data"
    }
   ],
   "source": [
    "x_positive = [x for x,y in positive_reviews]\n",
    "y_positive = [y for x,y in positive_reviews]\n",
    "ax = sns.barplot(x=l, y=x_positive)\n",
    "ax.set_title('Most Common Words in Reviews With 4 or 5 Stars')\n",
    "ax.set_xlabel('Frequency')\n",
    "ax.set_ylabel('Words')\n",
    "\n",
    "plt.ticklabel_format(style='plain', axis='x')\n",
    "\n",
    "\n",
    "plt.show()"
   ]
  },
  {
   "cell_type": "code",
   "execution_count": 103,
   "id": "672a34b8",
   "metadata": {},
   "outputs": [
    {
     "data": {
      "image/png": "[encoded data removed]",
      "text/plain": [
       "<Figure size 640x480 with 1 Axes>"
      ]
     },
     "metadata": {},
     "output_type": "display_data"
    }
   ],
   "source": [
    "x_negative = [x for x,y in negative_reviews] \n",
    "y_negative = [y for x,y in negative_reviews] \n",
    "ax = sns.barplot(x=l, y=x_negative, palette = 'rainbow')\n",
    "ax.set_title('Most Common Words in Reviews With 1 or 2 Stars')\n",
    "ax.set_xlabel('Frequency')\n",
    "ax.set_ylabel('Words')\n",
    "#plt.savefig('unpopular_words.png', bbox_inches='tight')\n",
    "\n",
    "plt.show()"
   ]
  },
  {
   "cell_type": "code",
   "execution_count": 104,
   "id": "24857fc1",
   "metadata": {},
   "outputs": [
    {
     "data": {
      "text/plain": [
       "['food',\n",
       " 'place',\n",
       " 'good',\n",
       " 'service',\n",
       " 'time',\n",
       " 'order',\n",
       " 'ordered',\n",
       " 'restaurant',\n",
       " 'minutes',\n",
       " 'table',\n",
       " 'chicken',\n",
       " 'people',\n",
       " 'great',\n",
       " 'asked',\n",
       " 'bad',\n",
       " 'wait',\n",
       " 'told',\n",
       " 'experience',\n",
       " 'menu',\n",
       " 'burger',\n",
       " 'eat',\n",
       " 'pizza',\n",
       " 'meal',\n",
       " 'pretty',\n",
       " 'server',\n",
       " 'staff',\n",
       " 'waitress',\n",
       " 'times',\n",
       " 'night',\n",
       " 'bar']"
      ]
     },
     "execution_count": 104,
     "metadata": {},
     "output_type": "execute_result"
    }
   ],
   "source": [
    "x_negative"
   ]
  },
  {
   "cell_type": "code",
   "execution_count": 105,
   "id": "3e1a7f73",
   "metadata": {},
   "outputs": [
    {
     "data": {
      "text/plain": [
       "['food',\n",
       " 'good',\n",
       " 'place',\n",
       " 'great',\n",
       " 'time',\n",
       " 'service',\n",
       " 'delicious',\n",
       " 'chicken',\n",
       " 'wait',\n",
       " 'burger',\n",
       " 'menu',\n",
       " 'restaurant',\n",
       " 'love',\n",
       " 'amazing',\n",
       " 'nice',\n",
       " 'ordered',\n",
       " 'order',\n",
       " 'friendly',\n",
       " 'staff',\n",
       " 'fresh',\n",
       " 'cheese',\n",
       " 'Great',\n",
       " 'pretty',\n",
       " 'favorite',\n",
       " 'recommend',\n",
       " 'sauce',\n",
       " 'eat',\n",
       " 'fried',\n",
       " 'fries',\n",
       " 'bit']"
      ]
     },
     "execution_count": 105,
     "metadata": {},
     "output_type": "execute_result"
    }
   ],
   "source": [
    "x_positive"
   ]
  },
  {
   "cell_type": "code",
   "execution_count": 113,
   "id": "a713f11d",
   "metadata": {},
   "outputs": [
    {
     "data": {
      "text/plain": [
       "[('asked', 1),\n",
       " ('told', 1),\n",
       " ('experience', 1),\n",
       " ('server', 1),\n",
       " ('bad', 1),\n",
       " ('people', 1),\n",
       " ('meal', 1),\n",
       " ('pizza', 1),\n",
       " ('table', 1),\n",
       " ('times', 1),\n",
       " ('minutes', 1),\n",
       " ('bar', 1),\n",
       " ('night', 1),\n",
       " ('waitress', 1)]"
      ]
     },
     "execution_count": 113,
     "metadata": {},
     "output_type": "execute_result"
    }
   ],
   "source": [
    "[(w, x_negative.count(w)) for w in set(x_negative) if w not in x_positive]"
   ]
  },
  {
   "cell_type": "code",
   "execution_count": 108,
   "id": "709de151",
   "metadata": {},
   "outputs": [
    {
     "data": {
      "text/plain": [
       "[('eat', 1),\n",
       " ('good', 1),\n",
       " ('ordered', 1),\n",
       " ('menu', 1),\n",
       " ('service', 1),\n",
       " ('great', 1),\n",
       " ('wait', 1),\n",
       " ('order', 1),\n",
       " ('time', 1),\n",
       " ('chicken', 1),\n",
       " ('pretty', 1),\n",
       " ('food', 1),\n",
       " ('staff', 1),\n",
       " ('restaurant', 1),\n",
       " ('place', 1),\n",
       " ('burger', 1)]"
      ]
     },
     "execution_count": 108,
     "metadata": {},
     "output_type": "execute_result"
    }
   ],
   "source": [
    "[(w, x_positive.count(w)) for w in set(x_positive) if w in x_negative]"
   ]
  }
 ],
 "metadata": {
  "kernelspec": {
   "display_name": "Python 3 (ipykernel)",
   "language": "python",
   "name": "python3"
  },
  "language_info": {
   "codemirror_mode": {
    "name": "ipython",
    "version": 3
   },
   "file_extension": ".py",
   "mimetype": "text/x-python",
   "name": "python",
   "nbconvert_exporter": "python",
   "pygments_lexer": "ipython3",
   "version": "3.9.13"
  }
 },
 "nbformat": 4,
 "nbformat_minor": 5
}
